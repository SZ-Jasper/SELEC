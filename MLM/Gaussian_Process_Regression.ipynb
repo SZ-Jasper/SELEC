{
 "cells": [
  {
   "cell_type": "code",
   "execution_count": 1,
   "id": "90962608",
   "metadata": {},
   "outputs": [],
   "source": [
    "import numpy as np\n",
    "import pandas as pd\n",
    "import matplotlib.pyplot as plt\n",
    "import scipy \n",
    "import os\n",
    "# import seaborn as sns\n",
    "# import scipy.stats as stats\n",
    "import unittest"
   ]
  },
  {
   "cell_type": "code",
   "execution_count": 2,
   "id": "3ded1927",
   "metadata": {},
   "outputs": [],
   "source": [
    "df_battery = pd.read_csv('Battery_Dataset.csv')"
   ]
  },
  {
   "cell_type": "code",
   "execution_count": 3,
   "id": "5095f963",
   "metadata": {},
   "outputs": [],
   "source": [
    "import csv\n",
    "from sklearn.gaussian_process import GaussianProcessRegressor\n",
    "from sklearn.gaussian_process.kernels import WhiteKernel, DotProduct, RBF\n",
    "from sklearn.model_selection import KFold \n",
    "import math\n",
    "\n",
    "import sklearn\n",
    "import statistics as stcs\n",
    "import scipy.stats as stats\n",
    "\n",
    "\n",
    "from sklearn.model_selection import GridSearchCV, RandomizedSearchCV\n",
    "from sklearn.svm import SVR\n",
    "from sklearn.pipeline import make_pipeline\n",
    "from sklearn.preprocessing import StandardScaler,scale,MinMaxScaler\n",
    "from scipy.stats import uniform,expon\n",
    "from sklearn.model_selection import cross_val_score\n",
    "from sklearn.preprocessing import OneHotEncoder\n",
    "from sklearn.metrics import mean_squared_error"
   ]
  },
  {
   "cell_type": "code",
   "execution_count": 4,
   "id": "cbd13461",
   "metadata": {},
   "outputs": [],
   "source": [
    "#One hot encoding (alphebetical order)\n",
    "ohe = OneHotEncoder()\n",
    "ACE = df_battery.loc[:,['anode','cathode','electrolyte']]\n",
    "ACE = ohe.fit_transform(ACE)\n",
    "ACE = pd.DataFrame(ACE.toarray())\n",
    "\n",
    "ACE_col_name = ['A1','C1','C2','C3','E1','E2','E3']\n",
    "for i in range(len(ACE.columns)):\n",
    "    ACE = ACE.rename({ACE.columns[i]: ACE_col_name[i]}, axis=1) \n",
    "    \n",
    "df_battery = pd.concat([ACE, df_battery],axis=1)"
   ]
  },
  {
   "cell_type": "code",
   "execution_count": 38,
   "id": "cca661f7",
   "metadata": {},
   "outputs": [],
   "source": [
    "data = df_battery\n",
    "\n",
    "np.random.seed(66)\n",
    "def data_split (data, test_ratio):\n",
    "    \n",
    "    total_row = df_battery.shape[0]\n",
    "    test_row = round(total_row *test_ratio)\n",
    "    train_row = total_row - test_row\n",
    "    \n",
    "    indices =np.random.permutation(total_row)\n",
    "    train_indx, test_idx =indices[:train_row], indices[train_row:]\n",
    "    train,test = df_battery.iloc[train_indx,:], df_battery.iloc[test_idx,:]\n",
    "\n",
    "    X_test = test[['A1','C1','C2','C3','E1','E2','E3','Cycle','temperature','discharge_crate']]\n",
    "#    y_test = test[['Charge_Capacity (Ah)']]\n",
    "#    y_test = test[['Discharge_Capacity (Ah)']]\n",
    "#    y_test = test[['Charge_Energy (Wh)']]\n",
    "#    y_test = test[['Discharge_Energy (Wh)']]\n",
    "#    y_test = test[['Coulombic_Efficiency (%)']]\n",
    "    y_test = test[['Energy_Efficiency (%)']]\n",
    "    \n",
    "    X_train = train[['A1','C1','C2','C3','E1','E2','E3','Cycle','temperature','discharge_crate']]\n",
    "#    y_train = train[['Charge_Capacity (Ah)']]\n",
    "#    y_train = train[['Discharge_Capacity (Ah)']]\n",
    "#    y_train = train[['Charge_Energy (Wh)']]\n",
    "#    y_train = train[['Discharge_Energy (Wh)']]\n",
    "#    y_train = train[['Coulombic_Efficiency (%)']]\n",
    "    y_train = train[['Energy_Efficiency (%)']]\n",
    "    return train,test,X_train,y_train,X_test,y_test\n",
    "    \n",
    "train,test,X_train,y_train,X_test,y_test = data_split(data,0.2)\n"
   ]
  },
  {
   "cell_type": "code",
   "execution_count": 39,
   "id": "06a36e1e",
   "metadata": {},
   "outputs": [],
   "source": [
    "#k-fold cross validation\n",
    "kf = KFold(n_splits=10,random_state =66,shuffle= True)\n",
    "#print(X_test,y_test,X_train,y_train)"
   ]
  },
  {
   "cell_type": "code",
   "execution_count": 40,
   "id": "873d739f",
   "metadata": {},
   "outputs": [
    {
     "name": "stdout",
     "output_type": "stream",
     "text": [
      "StandardScaler()\n",
      "[  1.         0.296875   0.34375    0.359375   0.296875   0.359375\n",
      "   0.34375  292.1875    25.3125     1.4375  ]\n",
      "StandardScaler()\n",
      "[1.00000000e+00 3.94531250e-01 2.65625000e-01 3.39843750e-01\n",
      " 3.94531250e-01 3.39843750e-01 2.65625000e-01 2.70703125e+02\n",
      " 2.53125000e+01 1.45703125e+00]\n"
     ]
    }
   ],
   "source": [
    "clf = StandardScaler(with_mean=True,with_std=True)\n",
    "print(clf.fit(X_test))\n",
    "print(clf.mean_)\n",
    "\n",
    "X_test = pd.DataFrame(clf.transform(X_test))\n",
    "\n",
    "print(clf.fit(X_train))\n",
    "print(clf.mean_)\n",
    "X_train = pd.DataFrame(clf.transform(X_train))"
   ]
  },
  {
   "cell_type": "code",
   "execution_count": 41,
   "id": "6ff16daa",
   "metadata": {},
   "outputs": [],
   "source": [
    "np.random.seed(66)\n",
    "\n",
    "kernel = DotProduct() + WhiteKernel()\n",
    "gpr = GaussianProcessRegressor(kernel=kernel, random_state=66)\n",
    "\n",
    "\n",
    "train_results =[]\n",
    "train_results_name =['Experimental','Predicted','RMSE']\n",
    "\n",
    "for train_index, test_index in kf.split(X_train):\n",
    "    #print(\"Train:\", train_index, \"Validation:\", test_index)\n",
    "    X_training, X_validate = X_train.iloc[train_index], X_train.iloc[test_index]\n",
    "    y_training, y_validate = y_train.iloc[train_index], y_train.iloc[test_index]\n",
    "    \n",
    "    np.random.seed(66)\n",
    "    gpr.fit(X_training,y_training)\n",
    "    y_train_predicted = gpr.predict(X_validate)\n",
    "#    print(y_train_predicted.shape)\n",
    "#     number_ob =X_validate.shape[0]\n",
    "#     squared_deviations=(y_train_predicted.reshape(-1,1)-y_validate)**2\n",
    "#     RMSE=math.sqrt(squared_deviations.sum()/number_ob)\n",
    "    #RMSE = math.sqrt(stcs.mean((y_train_predicted-y_validate)**2))\n",
    "    mse = mean_squared_error(y_train_predicted, y_validate)\n",
    "    RMSE = np.sqrt(mse)\n",
    "    train_results.append([y_validate,y_train_predicted,RMSE])"
   ]
  },
  {
   "cell_type": "code",
   "execution_count": 42,
   "id": "666037c0",
   "metadata": {},
   "outputs": [
    {
     "data": {
      "text/plain": [
       "3.396700605559346"
      ]
     },
     "execution_count": 42,
     "metadata": {},
     "output_type": "execute_result"
    }
   ],
   "source": [
    "Train_results = pd.DataFrame (train_results,columns=train_results_name)\n",
    "\n",
    "predict_results = pd.DataFrame (Train_results.iloc[:,1])\n",
    "\n",
    "np.average(Train_results['RMSE'])"
   ]
  },
  {
   "cell_type": "code",
   "execution_count": 43,
   "id": "6fbaa208",
   "metadata": {},
   "outputs": [
    {
     "data": {
      "text/plain": [
       "2.991222098094915"
      ]
     },
     "execution_count": 43,
     "metadata": {},
     "output_type": "execute_result"
    }
   ],
   "source": [
    "np.random.seed(66)\n",
    "gpr.fit(X_train,y_train)\n",
    "y_predict = gpr.predict(X_test)\n",
    "\n",
    "mse = mean_squared_error(y_train_predicted, y_validate)\n",
    "RMSE = np.sqrt(mse)\n",
    "RMSE\n"
   ]
  },
  {
   "cell_type": "code",
   "execution_count": null,
   "id": "29bd7538",
   "metadata": {},
   "outputs": [],
   "source": []
  }
 ],
 "metadata": {
  "kernelspec": {
   "display_name": "Python 3 (ipykernel)",
   "language": "python",
   "name": "python3"
  },
  "language_info": {
   "codemirror_mode": {
    "name": "ipython",
    "version": 3
   },
   "file_extension": ".py",
   "mimetype": "text/x-python",
   "name": "python",
   "nbconvert_exporter": "python",
   "pygments_lexer": "ipython3",
   "version": "3.8.12"
  }
 },
 "nbformat": 4,
 "nbformat_minor": 5
}
