{
 "cells": [
  {
   "cell_type": "code",
   "execution_count": 1,
   "id": "9fc6ace1",
   "metadata": {},
   "outputs": [],
   "source": [
    "import numpy as np\n",
    "import pandas as pd\n",
    "import matplotlib.pyplot as plt\n",
    "import scipy \n",
    "import os\n",
    "# import seaborn as sns\n",
    "# import scipy.stats as stats\n",
    "import unittest"
   ]
  },
  {
   "cell_type": "markdown",
   "id": "20f0a417",
   "metadata": {},
   "source": [
    "## Battery Dataset"
   ]
  },
  {
   "cell_type": "code",
   "execution_count": 2,
   "id": "2ec14e35",
   "metadata": {},
   "outputs": [],
   "source": [
    "#Upload metadata\n",
    "metadata = pd.read_csv('snl_metadata_cycle_500.csv')\n",
    "\n",
    "#Define data directory and load files, ensure the data directory and this notebook are in the same directory\n",
    "data_dir = \"Cycle Data\"\n",
    "files = os.listdir(data_dir)\n",
    "\n",
    "#Initialize dataframe header row \n",
    "df = pd.read_csv(data_dir+\"\\\\\"+files[0])\n",
    "df_output = df.head(0)\n",
    "\n",
    "# Define cycles \n",
    "cycle = [50.0, 100.0, 150.0, 200.0, 250.0, 300.0, 350.0, 400.0, 450.0, 500.0]\n",
    "\n",
    "  "
   ]
  },
  {
   "cell_type": "code",
   "execution_count": 3,
   "id": "362c67fa",
   "metadata": {},
   "outputs": [],
   "source": [
    "#Build dataframe by adding the correct row of data pulled from \"Cycle\" files\n",
    "#Include the output \"Coulombic efficiency\"\n",
    "#Add the cell_id from \"Cycle\" files\n",
    "\n",
    "cell_id_2 =[]\n",
    "\n",
    "i=0                \n",
    "for file in files:\n",
    "    df = pd.read_csv(data_dir+\"\\\\\"+files[i])\n",
    "    \n",
    "    for j in range(len(cycle)):\n",
    "        df_cycles = df.loc[df['Cycle_Index'] == cycle[j]]\n",
    "        df_output = df_output.append(df_cycles, ignore_index = True)\n",
    "        \n",
    "        df_output['Coulombic_Efficiency (%)'] = df_output['Discharge_Capacity (Ah)']/df_output['Charge_Capacity (Ah)']*100\n",
    "        \n",
    "        cell_id_2.append(file[:-15])\n",
    "        df_output['cell_id_2'] = cell_id_2\n",
    "        \n",
    "    i+=1     "
   ]
  },
  {
   "cell_type": "code",
   "execution_count": 4,
   "id": "aa839f7e",
   "metadata": {},
   "outputs": [],
   "source": [
    "df_output = pd.concat([metadata, df_output],axis=1)"
   ]
  },
  {
   "cell_type": "code",
   "execution_count": 5,
   "id": "38a0cd7f",
   "metadata": {},
   "outputs": [],
   "source": [
    "#Define data directory and load files\n",
    "#All \"Time Data #\" zip files need to be unzipped and all files moved to a \"Time Data\" directory\n",
    "#Ensure the Time data directory and this notebook are in the same directory\n",
    "data_dir2 = \"Time Data\"\n",
    "files2 = os.listdir(data_dir2)\n",
    "\n",
    "#Create new columns \n",
    "df_output['Voltages (V)'] = None \n",
    "df_output['Discharge_Capacities (Ah)'] = None "
   ]
  },
  {
   "cell_type": "code",
   "execution_count": 6,
   "id": "1fad1977",
   "metadata": {},
   "outputs": [
    {
     "name": "stderr",
     "output_type": "stream",
     "text": [
      "<ipython-input-6-271e406e8bb8>:16: SettingWithCopyWarning: \n",
      "A value is trying to be set on a copy of a slice from a DataFrame\n",
      "\n",
      "See the caveats in the documentation: https://pandas.pydata.org/pandas-docs/stable/user_guide/indexing.html#returning-a-view-versus-a-copy\n",
      "  df_output['Voltages (V)'][i] = voltages[i]\n",
      "<ipython-input-6-271e406e8bb8>:17: SettingWithCopyWarning: \n",
      "A value is trying to be set on a copy of a slice from a DataFrame\n",
      "\n",
      "See the caveats in the documentation: https://pandas.pydata.org/pandas-docs/stable/user_guide/indexing.html#returning-a-view-versus-a-copy\n",
      "  df_output['Discharge_Capacities (Ah)'][i] = discharge_capacities[i]\n"
     ]
    }
   ],
   "source": [
    "#Pull array of data from \"Time\" files and append them into one array\n",
    "voltages = []\n",
    "discharge_capacities = []\n",
    "i=0     \n",
    "for file in files2:  \n",
    "    df2 = pd.read_csv(data_dir2+\"\\\\\"+files2[i])\n",
    "    \n",
    "    for j in range(10):\n",
    "        df_time = df2.loc[df2['Cycle_Index'] == df_output['Cycle'][j]]\n",
    "        voltages.append(df_time['Voltage (V)'].values)\n",
    "        discharge_capacities.append(df_time['Discharge_Capacity (Ah)'].values)\n",
    "    i+=1    \n",
    "    \n",
    "#Populate the newly created columns with each cell having an array of data\n",
    "for i in range(len(df_output)):\n",
    "    df_output['Voltages (V)'][i] = voltages[i]\n",
    "    df_output['Discharge_Capacities (Ah)'][i] = discharge_capacities[i]"
   ]
  },
  {
   "cell_type": "code",
   "execution_count": 7,
   "id": "c31786f0",
   "metadata": {},
   "outputs": [],
   "source": [
    "#Check to make sure data pulled from \"Cycle\" files match the correct metadata line\n",
    "for i in range(len(df_output)):\n",
    "    if df_output['cell_id'][i] == df_output['cell_id_2'][i]:\n",
    "        pass\n",
    "    else:\n",
    "        print('not a match', df_output['cell_id'][i],df_output['cell_id_2'][i])\n",
    "        \n",
    "for i in range(len(df_output)):\n",
    "    if df_output['Cycle'][i] == df_output['Cycle_Index'][i]:\n",
    "        pass\n",
    "    else:\n",
    "        print('not a match', df_output['Cycle'][i],df_output['Cycle_Index'][i])"
   ]
  },
  {
   "cell_type": "code",
   "execution_count": null,
   "id": "46c64a21",
   "metadata": {},
   "outputs": [],
   "source": []
  },
  {
   "cell_type": "code",
   "execution_count": 8,
   "id": "4562acd4",
   "metadata": {},
   "outputs": [],
   "source": [
    "#Load full Battery dataset\n",
    "df_battery = df_output\n",
    "df_battery = df_battery.drop('cell_id_2', 1)\n",
    "df_battery = df_battery.drop('Cycle_Index', 1)"
   ]
  },
  {
   "cell_type": "code",
   "execution_count": 9,
   "id": "6db70204",
   "metadata": {},
   "outputs": [],
   "source": [
    "# pd.set_option(\"display.max_rows\", None, \"display.max_columns\", None)\n",
    "# df_battery"
   ]
  },
  {
   "cell_type": "markdown",
   "id": "4382760b",
   "metadata": {},
   "source": [
    "## Battery Dataset Filtered"
   ]
  },
  {
   "cell_type": "code",
   "execution_count": 10,
   "id": "89e7f43e",
   "metadata": {},
   "outputs": [
    {
     "name": "stderr",
     "output_type": "stream",
     "text": [
      "<ipython-input-10-b25a5de493fd>:7: SettingWithCopyWarning: \n",
      "A value is trying to be set on a copy of a slice from a DataFrame\n",
      "\n",
      "See the caveats in the documentation: https://pandas.pydata.org/pandas-docs/stable/user_guide/indexing.html#returning-a-view-versus-a-copy\n",
      "  df_battery['rep'][i] = 0\n",
      "<ipython-input-10-b25a5de493fd>:9: SettingWithCopyWarning: \n",
      "A value is trying to be set on a copy of a slice from a DataFrame\n",
      "\n",
      "See the caveats in the documentation: https://pandas.pydata.org/pandas-docs/stable/user_guide/indexing.html#returning-a-view-versus-a-copy\n",
      "  df_battery['rep'][i] = 1\n"
     ]
    }
   ],
   "source": [
    "#Create a column that will indicated replicated experiments \n",
    "df_battery['rep'] = None \n",
    "\n",
    "#Populate the column, replicates will have a value of 1\n",
    "for i in range(len(df_battery)):\n",
    "    if df_battery.cell_id.values[i][-1] == 'a':\n",
    "        df_battery['rep'][i] = 0\n",
    "    if df_battery.cell_id.values[i][-1] != 'a':\n",
    "        df_battery['rep'][i] = 1\n",
    "\n",
    "#Re"
   ]
  },
  {
   "cell_type": "code",
   "execution_count": null,
   "id": "9ed6f997",
   "metadata": {},
   "outputs": [],
   "source": []
  },
  {
   "cell_type": "code",
   "execution_count": 11,
   "id": "fe68bcfd",
   "metadata": {},
   "outputs": [],
   "source": [
    "#Drop any row of replicated experiment data and load filtered Battery Dataset\n",
    "df_battery_filtered = df_battery[df_battery['rep'] < 0.5]\n",
    "df_battery_filtered = df_battery_filtered.drop('rep', 1)\n",
    "df_battery_filtered = df_battery_filtered.reset_index(drop=True)"
   ]
  },
  {
   "cell_type": "code",
   "execution_count": 13,
   "id": "b0fd37be",
   "metadata": {},
   "outputs": [],
   "source": [
    "# df_battery_filtered\n"
   ]
  },
  {
   "cell_type": "code",
   "execution_count": null,
   "id": "c30c0a67",
   "metadata": {},
   "outputs": [],
   "source": []
  },
  {
   "cell_type": "code",
   "execution_count": null,
   "id": "68a5ad8c",
   "metadata": {},
   "outputs": [],
   "source": []
  },
  {
   "cell_type": "code",
   "execution_count": null,
   "id": "06ba7c1d",
   "metadata": {},
   "outputs": [],
   "source": []
  }
 ],
 "metadata": {
  "kernelspec": {
   "display_name": "Python 3",
   "language": "python",
   "name": "python3"
  },
  "language_info": {
   "codemirror_mode": {
    "name": "ipython",
    "version": 3
   },
   "file_extension": ".py",
   "mimetype": "text/x-python",
   "name": "python",
   "nbconvert_exporter": "python",
   "pygments_lexer": "ipython3",
   "version": "3.8.8"
  }
 },
 "nbformat": 4,
 "nbformat_minor": 5
}
