{
 "cells": [
  {
   "cell_type": "code",
   "execution_count": null,
   "id": "3023e392",
   "metadata": {},
   "outputs": [],
   "source": [
    "import numpy as np\n",
    "import pandas as pd\n",
    "import matplotlib.pyplot as plt\n",
    "from matplotlib.pyplot import figure\n",
    "\n",
    "import scipy \n",
    "import os\n",
    "import unittest"
   ]
  },
  {
   "cell_type": "code",
   "execution_count": null,
   "id": "023caf78",
   "metadata": {},
   "outputs": [],
   "source": [
    "df_battery = pd.read_csv('../data/Battery_Dataset.csv')"
   ]
  },
  {
   "cell_type": "code",
   "execution_count": null,
   "id": "bcd9fb50",
   "metadata": {},
   "outputs": [],
   "source": [
    "import numpy as np;\n",
    "import tensorflow as tf \n",
    "from tensorflow import keras \n",
    "from tensorflow.keras import layers\n",
    "import csv\n",
    "import pandas as pd\n",
    "import sklearn as sk\n",
    "from sklearn.model_selection import KFold \n",
    "from notebook.services.config import ConfigManager\n",
    "cm = ConfigManager().update('notebook', {'limit_output': 1000})\n",
    "\n",
    "import statistics as stc\n",
    "import scipy.stats as stats\n",
    "\n",
    "from sklearn.model_selection import cross_val_score\n",
    "from sklearn.preprocessing import OneHotEncoder\n",
    "from sklearn.metrics import mean_squared_error\n",
    "from sklearn.metrics import r2_score"
   ]
  },
  {
   "cell_type": "code",
   "execution_count": null,
   "id": "2b827be5",
   "metadata": {},
   "outputs": [],
   "source": [
    "#One hot encoding (alphebetical order)\n",
    "ohe = OneHotEncoder()\n",
    "ACE = df_battery.loc[:,['anode','cathode','electrolyte']]\n",
    "ACE = ohe.fit_transform(ACE)\n",
    "ACE = pd.DataFrame(ACE.toarray())\n",
    "\n",
    "ACE_col_name = ['A1','C1','C2','C3','E1','E2','E3']\n",
    "for i in range(len(ACE.columns)):\n",
    "    ACE = ACE.rename({ACE.columns[i]: ACE_col_name[i]}, axis=1) \n",
    "    \n",
    "df_battery = pd.concat([ACE, df_battery],axis=1)"
   ]
  },
  {
   "cell_type": "code",
   "execution_count": null,
   "id": "f27adf56",
   "metadata": {},
   "outputs": [],
   "source": [
    "data = df_battery\n",
    "\n",
    "np.random.seed(66)\n",
    "def data_split (data, test_ratio):\n",
    "    \n",
    "    total_row = df_battery.shape[0]\n",
    "    test_row = round(total_row *test_ratio)\n",
    "    train_row = total_row - test_row\n",
    "    \n",
    "    indices =np.random.permutation(total_row)\n",
    "    train_indx, test_idx =indices[:train_row], indices[train_row:]\n",
    "    train,test = df_battery.iloc[train_indx,:], df_battery.iloc[test_idx,:]\n",
    "\n",
    "    X_test = test[['A1','C1','C2','C3','E1','E2','E3','Cycle','temperature','discharge_crate']]\n",
    "#    y_test = test[['Charge_Capacity (Ah)']]\n",
    "    y_test = test[['Discharge_Capacity (Ah)']]\n",
    "#    y_test = test[['Charge_Energy (Wh)']]\n",
    "#    y_test = test[['Discharge_Energy (Wh)']]\n",
    "#    y_test = test[['Coulombic_Efficiency (%)']]\n",
    "#    y_test = test[['Energy_Efficiency (%)']]\n",
    "    \n",
    "    X_train = train[['A1','C1','C2','C3','E1','E2','E3','Cycle','temperature','discharge_crate']]\n",
    "#    y_train = train[['Charge_Capacity (Ah)']]\n",
    "    y_train = train[['Discharge_Capacity (Ah)']]\n",
    "#    y_train = train[['Charge_Energy (Wh)']]\n",
    "#    y_train = train[['Discharge_Energy (Wh)']]\n",
    "#    y_train = train[['Coulombic_Efficiency (%)']]\n",
    "#    y_train = train[['Energy_Efficiency (%)']]\n",
    "    return train,test,X_train,y_train,X_test,y_test\n",
    "    \n",
    "train,test,X_train,y_train,X_test,y_test = data_split(data,0.2)\n"
   ]
  },
  {
   "cell_type": "code",
   "execution_count": null,
   "id": "9df1f31b",
   "metadata": {},
   "outputs": [],
   "source": [
    "#k-fold cross validation\n",
    "kf = KFold(n_splits=10,random_state =66,shuffle= True)\n",
    "#print(X_test,y_test,X_train,y_train)"
   ]
  },
  {
   "cell_type": "code",
   "execution_count": null,
   "id": "b29f09aa",
   "metadata": {},
   "outputs": [],
   "source": [
    "import keras\n",
    "from keras.models import Sequential\n",
    "from keras.layers import Dense\n",
    "from tensorflow.keras.layers import Activation\n",
    "from tensorflow.keras import optimizers\n",
    "from tensorflow.keras import losses\n",
    "\n",
    "\n",
    "def Deep_neural(lr, hidden_dimension, hidden_layers, reg=0):\n",
    "\n",
    "    initializer = tf.keras.initializers.VarianceScaling(scale=2)\n",
    "    \n",
    "    regularizer = tf.keras.regularizers.l2(reg)\n",
    "\n",
    "    model = Sequential()\n",
    "    model.add(Dense(hidden_dimension, activation='relu', kernel_initializer=initializer,\n",
    "                           kernel_regularizer=regularizer, input_dim=20))\n",
    "    for i in range(hidden_layers):\n",
    "\n",
    "            model.add(Dense(hidden_dimension, activation='relu', kernel_initializer=initializer,\n",
    "                           kernel_regularizer=regularizer))\n",
    "    \n",
    "    model.add(Dense(1,activation ='linear',kernel_initializer=initializer,\n",
    "                           kernel_regularizer =regularizer))\n",
    "\n",
    "    \n",
    "    model.compile(metrics='mse',optimizer = optimizers.Adam(learning_rate =lr),loss=losses.MeanAbsolutePercentageError())\n",
    "    return model"
   ]
  },
  {
   "cell_type": "code",
   "execution_count": null,
   "id": "918f99df",
   "metadata": {},
   "outputs": [],
   "source": [
    "#Hyperparameter tuning\n",
    "learning_rate = [0.001,0.01, 0.1]\n",
    "hidden_dim = np.arange(5,21,1).tolist()\n",
    "hidden_l = np.arange(5,21,1).tolist()\n",
    "\n",
    "Results_name = [\"learning_rate\", \"hidden_dimension\", \"hidden_layeres\", \"RMSE\"]\n",
    "Results =[]\n",
    "\n",
    "\n",
    "\n",
    "for i in learning_rate:\n",
    "    for d in hidden_dim:\n",
    "        for l in hidden_l:\n",
    "            for train_index, test_index in kf.split(X_train):\n",
    "                print(\"Train:\", train_index, \"Validation:\", test_index)\n",
    "                X_training, X_validate = X_train.iloc[train_index], X_train.iloc[test_index]\n",
    "                y_training, y_validate = y_train.iloc[train_index], y_train.iloc[test_index]\n",
    "                initial_model = Deep_neural(lr=i, hidden_dimension=d, hidden_layers=l)\n",
    "                history = initial_model.fit(x=np.asarray(X_training), y=np.asarray(y_training), batch_size=15, epochs=1)\n",
    "                A = initial_model.evaluate(x=np.asarray(X_validate), y=np.asarray(y_validate)[1]\n",
    "                rmse = math.sqrt(A)\n",
    "                Results.append([i, d, l, rmse])                "
   ]
  },
  {
   "cell_type": "code",
   "execution_count": null,
   "id": "c30723b1",
   "metadata": {},
   "outputs": [],
   "source": [
    "#Train error\n",
    "for train_index, test_index in kf.split(X_train):\n",
    "                #print(\"Train:\", train_index, \"Validation:\", test_index)\n",
    "                X_training, X_validate = X_train.iloc[train_index], X_train.iloc[test_index]\n",
    "                y_training, y_validate = y_train.iloc[train_index], y_train.iloc[test_index]\n",
    "                \n",
    "                initial_model = Deep_neural(\n",
    "                lr=0.001, hidden_dimension=20, hidden_layers=8)\n",
    "                np.random.seed(66)\n",
    "                history = initial_model.fit(x=X_training, y=y_training, batch_size=10, epochs=1000,verbose=0)\n",
    "                np.random.seed(66)\n",
    "                y_predict = initial_model.predict(X_validate)\n",
    "                "
   ]
  },
  {
   "cell_type": "code",
   "execution_count": null,
   "id": "9dde7d08",
   "metadata": {},
   "outputs": [],
   "source": [
    "Predicted_train_value =[]\n",
    "\n",
    "for i in Predicted:\n",
    "    for b in i:\n",
    "        for c in b:\n",
    "            Predicted_train_value.append(c)"
   ]
  },
  {
   "cell_type": "code",
   "execution_count": null,
   "id": "c30c1090",
   "metadata": {},
   "outputs": [],
   "source": [
    "Predicted_train_values = pd.DataFrame(Predicted_train_value)\n",
    "Experimental_train_values = pd.DataFrame(Experimental)"
   ]
  },
  {
   "cell_type": "code",
   "execution_count": null,
   "id": "c8fbacab",
   "metadata": {},
   "outputs": [],
   "source": [
    "Experimental_train_value =[]\n",
    "\n",
    "for i in range(Experimental_train_values.shape[0]):\n",
    "    Ex=Experimental_train_values.iloc[i,0].to_string(index=False)\n",
    "    Ex_num = Ex.split(\"\\n \")\n",
    "    a = np.array([float(i) for i in Ex_num])\n",
    "    Experimental_train_value.extend(a)"
   ]
  }
 ],
 "metadata": {
  "kernelspec": {
   "display_name": "Python 3 (ipykernel)",
   "language": "python",
   "name": "python3"
  },
  "language_info": {
   "codemirror_mode": {
    "name": "ipython",
    "version": 3
   },
   "file_extension": ".py",
   "mimetype": "text/x-python",
   "name": "python",
   "nbconvert_exporter": "python",
   "pygments_lexer": "ipython3",
   "version": "3.9.5"
  }
 },
 "nbformat": 4,
 "nbformat_minor": 5
}
