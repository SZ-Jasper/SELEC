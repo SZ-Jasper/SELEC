{
 "cells": [
  {
   "cell_type": "code",
   "execution_count": 88,
   "id": "4da68267",
   "metadata": {},
   "outputs": [],
   "source": [
    "from numpy import loadtxt\n",
    "from keras.models import Sequential\n",
    "from keras.layers import Dense"
   ]
  },
  {
   "cell_type": "code",
   "execution_count": 89,
   "id": "c529efcb",
   "metadata": {},
   "outputs": [
    {
     "name": "stdout",
     "output_type": "stream",
     "text": [
      "2.8.0\n",
      "1.20.3\n",
      "The autoreload extension is already loaded. To reload it, use:\n",
      "  %reload_ext autoreload\n"
     ]
    }
   ],
   "source": [
    "# Import plotting libraries\n",
    "import matplotlib \n",
    "from matplotlib import pyplot as plt\n",
    "matplotlib.rcParams.update({'font.size': 20})\n",
    "plt.rcParams.update({'font.size': 22})\n",
    "\n",
    "import keras\n",
    "from keras.models import Sequential\n",
    "from keras.layers import Dense\n",
    "from keras.wrappers.scikit_learn import KerasRegressor\n",
    "\n",
    "print(keras.__version__)\n",
    "import numpy as np\n",
    "\n",
    "print(np.__version__)\n",
    "import pandas as pd\n",
    "from sklearn.model_selection import cross_val_score\n",
    "from sklearn.model_selection import KFold\n",
    "from sklearn.model_selection import train_test_split\n",
    "from sklearn.preprocessing import StandardScaler\n",
    "\n",
    "\n",
    "%load_ext autoreload\n",
    "%autoreload 2\n"
   ]
  },
  {
   "cell_type": "code",
   "execution_count": 90,
   "id": "c9501564",
   "metadata": {},
   "outputs": [
    {
     "data": {
      "text/html": [
       "<div>\n",
       "<style scoped>\n",
       "    .dataframe tbody tr th:only-of-type {\n",
       "        vertical-align: middle;\n",
       "    }\n",
       "\n",
       "    .dataframe tbody tr th {\n",
       "        vertical-align: top;\n",
       "    }\n",
       "\n",
       "    .dataframe thead th {\n",
       "        text-align: right;\n",
       "    }\n",
       "</style>\n",
       "<table border=\"1\" class=\"dataframe\">\n",
       "  <thead>\n",
       "    <tr style=\"text-align: right;\">\n",
       "      <th></th>\n",
       "      <th>cell_id</th>\n",
       "      <th>study</th>\n",
       "      <th>Cycles</th>\n",
       "      <th>anode</th>\n",
       "      <th>cathode</th>\n",
       "      <th>electrolyte</th>\n",
       "      <th>Cycle</th>\n",
       "      <th>temperature</th>\n",
       "      <th>min_soc</th>\n",
       "      <th>max_soc</th>\n",
       "      <th>...</th>\n",
       "      <th>Test_Time (s)</th>\n",
       "      <th>Min_Current (A)</th>\n",
       "      <th>Max_Current (A)</th>\n",
       "      <th>Min_Voltage (V)</th>\n",
       "      <th>Max_Voltage (V)</th>\n",
       "      <th>Charge_Capacity (Ah)</th>\n",
       "      <th>Discharge_Capacity (Ah)</th>\n",
       "      <th>Charge_Energy (Wh)</th>\n",
       "      <th>Discharge_Energy (Wh)</th>\n",
       "      <th>Coulombic_Efficiency (%)</th>\n",
       "    </tr>\n",
       "  </thead>\n",
       "  <tbody>\n",
       "    <tr>\n",
       "      <th>0</th>\n",
       "      <td>SNL_18650_LFP_15C_0-100_0.5-1C_a</td>\n",
       "      <td>snl</td>\n",
       "      <td>4,551.00</td>\n",
       "      <td>0</td>\n",
       "      <td>0</td>\n",
       "      <td>0</td>\n",
       "      <td>50</td>\n",
       "      <td>15</td>\n",
       "      <td>0</td>\n",
       "      <td>100</td>\n",
       "      <td>...</td>\n",
       "      <td>587184.091</td>\n",
       "      <td>-1.1</td>\n",
       "      <td>0.55</td>\n",
       "      <td>1.998</td>\n",
       "      <td>3.6</td>\n",
       "      <td>1.036</td>\n",
       "      <td>1.033</td>\n",
       "      <td>3.495</td>\n",
       "      <td>3.213</td>\n",
       "      <td>99.710425</td>\n",
       "    </tr>\n",
       "    <tr>\n",
       "      <th>1</th>\n",
       "      <td>SNL_18650_LFP_15C_0-100_0.5-1C_a</td>\n",
       "      <td>snl</td>\n",
       "      <td>4,551.00</td>\n",
       "      <td>0</td>\n",
       "      <td>0</td>\n",
       "      <td>0</td>\n",
       "      <td>100</td>\n",
       "      <td>15</td>\n",
       "      <td>0</td>\n",
       "      <td>100</td>\n",
       "      <td>...</td>\n",
       "      <td>1147865.412</td>\n",
       "      <td>-1.1</td>\n",
       "      <td>0.55</td>\n",
       "      <td>1.996</td>\n",
       "      <td>3.6</td>\n",
       "      <td>1.035</td>\n",
       "      <td>1.032</td>\n",
       "      <td>3.492</td>\n",
       "      <td>3.212</td>\n",
       "      <td>99.710145</td>\n",
       "    </tr>\n",
       "    <tr>\n",
       "      <th>2</th>\n",
       "      <td>SNL_18650_LFP_15C_0-100_0.5-1C_a</td>\n",
       "      <td>snl</td>\n",
       "      <td>4,551.00</td>\n",
       "      <td>0</td>\n",
       "      <td>0</td>\n",
       "      <td>0</td>\n",
       "      <td>150</td>\n",
       "      <td>15</td>\n",
       "      <td>0</td>\n",
       "      <td>100</td>\n",
       "      <td>...</td>\n",
       "      <td>1707309.606</td>\n",
       "      <td>-1.1</td>\n",
       "      <td>0.55</td>\n",
       "      <td>1.998</td>\n",
       "      <td>3.6</td>\n",
       "      <td>1.034</td>\n",
       "      <td>1.031</td>\n",
       "      <td>3.488</td>\n",
       "      <td>3.210</td>\n",
       "      <td>99.709865</td>\n",
       "    </tr>\n",
       "    <tr>\n",
       "      <th>3</th>\n",
       "      <td>SNL_18650_LFP_15C_0-100_0.5-1C_a</td>\n",
       "      <td>snl</td>\n",
       "      <td>4,551.00</td>\n",
       "      <td>0</td>\n",
       "      <td>0</td>\n",
       "      <td>0</td>\n",
       "      <td>200</td>\n",
       "      <td>15</td>\n",
       "      <td>0</td>\n",
       "      <td>100</td>\n",
       "      <td>...</td>\n",
       "      <td>2265641.077</td>\n",
       "      <td>-1.1</td>\n",
       "      <td>0.55</td>\n",
       "      <td>1.994</td>\n",
       "      <td>3.6</td>\n",
       "      <td>1.033</td>\n",
       "      <td>1.030</td>\n",
       "      <td>3.490</td>\n",
       "      <td>3.193</td>\n",
       "      <td>99.709584</td>\n",
       "    </tr>\n",
       "    <tr>\n",
       "      <th>4</th>\n",
       "      <td>SNL_18650_LFP_15C_0-100_0.5-1C_a</td>\n",
       "      <td>snl</td>\n",
       "      <td>4,551.00</td>\n",
       "      <td>0</td>\n",
       "      <td>0</td>\n",
       "      <td>0</td>\n",
       "      <td>250</td>\n",
       "      <td>15</td>\n",
       "      <td>0</td>\n",
       "      <td>100</td>\n",
       "      <td>...</td>\n",
       "      <td>2823170.271</td>\n",
       "      <td>-1.1</td>\n",
       "      <td>0.55</td>\n",
       "      <td>1.998</td>\n",
       "      <td>3.6</td>\n",
       "      <td>1.031</td>\n",
       "      <td>1.028</td>\n",
       "      <td>3.495</td>\n",
       "      <td>3.169</td>\n",
       "      <td>99.709020</td>\n",
       "    </tr>\n",
       "    <tr>\n",
       "      <th>...</th>\n",
       "      <td>...</td>\n",
       "      <td>...</td>\n",
       "      <td>...</td>\n",
       "      <td>...</td>\n",
       "      <td>...</td>\n",
       "      <td>...</td>\n",
       "      <td>...</td>\n",
       "      <td>...</td>\n",
       "      <td>...</td>\n",
       "      <td>...</td>\n",
       "      <td>...</td>\n",
       "      <td>...</td>\n",
       "      <td>...</td>\n",
       "      <td>...</td>\n",
       "      <td>...</td>\n",
       "      <td>...</td>\n",
       "      <td>...</td>\n",
       "      <td>...</td>\n",
       "      <td>...</td>\n",
       "      <td>...</td>\n",
       "      <td>...</td>\n",
       "    </tr>\n",
       "    <tr>\n",
       "      <th>315</th>\n",
       "      <td>SNL_18650_NMC_35C_0-100_0.5-2C_a</td>\n",
       "      <td>snl</td>\n",
       "      <td>786</td>\n",
       "      <td>0</td>\n",
       "      <td>2</td>\n",
       "      <td>2</td>\n",
       "      <td>300</td>\n",
       "      <td>35</td>\n",
       "      <td>0</td>\n",
       "      <td>100</td>\n",
       "      <td>...</td>\n",
       "      <td>2974479.443</td>\n",
       "      <td>-6.0</td>\n",
       "      <td>1.50</td>\n",
       "      <td>1.996</td>\n",
       "      <td>4.2</td>\n",
       "      <td>2.529</td>\n",
       "      <td>2.527</td>\n",
       "      <td>9.814</td>\n",
       "      <td>8.388</td>\n",
       "      <td>99.920917</td>\n",
       "    </tr>\n",
       "    <tr>\n",
       "      <th>316</th>\n",
       "      <td>SNL_18650_NMC_35C_0-100_0.5-2C_a</td>\n",
       "      <td>snl</td>\n",
       "      <td>786</td>\n",
       "      <td>0</td>\n",
       "      <td>2</td>\n",
       "      <td>2</td>\n",
       "      <td>350</td>\n",
       "      <td>35</td>\n",
       "      <td>0</td>\n",
       "      <td>100</td>\n",
       "      <td>...</td>\n",
       "      <td>3447094.374</td>\n",
       "      <td>-6.0</td>\n",
       "      <td>1.50</td>\n",
       "      <td>1.994</td>\n",
       "      <td>4.2</td>\n",
       "      <td>2.518</td>\n",
       "      <td>2.506</td>\n",
       "      <td>9.769</td>\n",
       "      <td>8.332</td>\n",
       "      <td>99.523431</td>\n",
       "    </tr>\n",
       "    <tr>\n",
       "      <th>317</th>\n",
       "      <td>SNL_18650_NMC_35C_0-100_0.5-2C_a</td>\n",
       "      <td>snl</td>\n",
       "      <td>786</td>\n",
       "      <td>0</td>\n",
       "      <td>2</td>\n",
       "      <td>2</td>\n",
       "      <td>400</td>\n",
       "      <td>35</td>\n",
       "      <td>0</td>\n",
       "      <td>100</td>\n",
       "      <td>...</td>\n",
       "      <td>3950131.055</td>\n",
       "      <td>-6.0</td>\n",
       "      <td>1.50</td>\n",
       "      <td>1.995</td>\n",
       "      <td>4.2</td>\n",
       "      <td>2.484</td>\n",
       "      <td>2.482</td>\n",
       "      <td>9.650</td>\n",
       "      <td>8.197</td>\n",
       "      <td>99.919485</td>\n",
       "    </tr>\n",
       "    <tr>\n",
       "      <th>318</th>\n",
       "      <td>SNL_18650_NMC_35C_0-100_0.5-2C_a</td>\n",
       "      <td>snl</td>\n",
       "      <td>786</td>\n",
       "      <td>0</td>\n",
       "      <td>2</td>\n",
       "      <td>2</td>\n",
       "      <td>450</td>\n",
       "      <td>35</td>\n",
       "      <td>0</td>\n",
       "      <td>100</td>\n",
       "      <td>...</td>\n",
       "      <td>4424376.521</td>\n",
       "      <td>-6.0</td>\n",
       "      <td>1.50</td>\n",
       "      <td>1.995</td>\n",
       "      <td>4.2</td>\n",
       "      <td>2.477</td>\n",
       "      <td>2.478</td>\n",
       "      <td>9.617</td>\n",
       "      <td>8.208</td>\n",
       "      <td>100.040371</td>\n",
       "    </tr>\n",
       "    <tr>\n",
       "      <th>319</th>\n",
       "      <td>SNL_18650_NMC_35C_0-100_0.5-2C_a</td>\n",
       "      <td>snl</td>\n",
       "      <td>786</td>\n",
       "      <td>0</td>\n",
       "      <td>2</td>\n",
       "      <td>2</td>\n",
       "      <td>500</td>\n",
       "      <td>35</td>\n",
       "      <td>0</td>\n",
       "      <td>100</td>\n",
       "      <td>...</td>\n",
       "      <td>4895300.388</td>\n",
       "      <td>-6.0</td>\n",
       "      <td>1.50</td>\n",
       "      <td>1.995</td>\n",
       "      <td>4.2</td>\n",
       "      <td>2.455</td>\n",
       "      <td>2.458</td>\n",
       "      <td>9.535</td>\n",
       "      <td>8.145</td>\n",
       "      <td>100.122200</td>\n",
       "    </tr>\n",
       "  </tbody>\n",
       "</table>\n",
       "<p>320 rows × 26 columns</p>\n",
       "</div>"
      ],
      "text/plain": [
       "                              cell_id study   Cycles   anode  cathode  \\\n",
       "0    SNL_18650_LFP_15C_0-100_0.5-1C_a   snl  4,551.00      0        0   \n",
       "1    SNL_18650_LFP_15C_0-100_0.5-1C_a   snl  4,551.00      0        0   \n",
       "2    SNL_18650_LFP_15C_0-100_0.5-1C_a   snl  4,551.00      0        0   \n",
       "3    SNL_18650_LFP_15C_0-100_0.5-1C_a   snl  4,551.00      0        0   \n",
       "4    SNL_18650_LFP_15C_0-100_0.5-1C_a   snl  4,551.00      0        0   \n",
       "..                                ...   ...       ...    ...      ...   \n",
       "315  SNL_18650_NMC_35C_0-100_0.5-2C_a   snl       786      0        2   \n",
       "316  SNL_18650_NMC_35C_0-100_0.5-2C_a   snl       786      0        2   \n",
       "317  SNL_18650_NMC_35C_0-100_0.5-2C_a   snl       786      0        2   \n",
       "318  SNL_18650_NMC_35C_0-100_0.5-2C_a   snl       786      0        2   \n",
       "319  SNL_18650_NMC_35C_0-100_0.5-2C_a   snl       786      0        2   \n",
       "\n",
       "     electrolyte  Cycle  temperature  min_soc  max_soc  ...  Test_Time (s)  \\\n",
       "0              0     50           15        0      100  ...     587184.091   \n",
       "1              0    100           15        0      100  ...    1147865.412   \n",
       "2              0    150           15        0      100  ...    1707309.606   \n",
       "3              0    200           15        0      100  ...    2265641.077   \n",
       "4              0    250           15        0      100  ...    2823170.271   \n",
       "..           ...    ...          ...      ...      ...  ...            ...   \n",
       "315            2    300           35        0      100  ...    2974479.443   \n",
       "316            2    350           35        0      100  ...    3447094.374   \n",
       "317            2    400           35        0      100  ...    3950131.055   \n",
       "318            2    450           35        0      100  ...    4424376.521   \n",
       "319            2    500           35        0      100  ...    4895300.388   \n",
       "\n",
       "     Min_Current (A)  Max_Current (A)  Min_Voltage (V) Max_Voltage (V)  \\\n",
       "0               -1.1             0.55            1.998             3.6   \n",
       "1               -1.1             0.55            1.996             3.6   \n",
       "2               -1.1             0.55            1.998             3.6   \n",
       "3               -1.1             0.55            1.994             3.6   \n",
       "4               -1.1             0.55            1.998             3.6   \n",
       "..               ...              ...              ...             ...   \n",
       "315             -6.0             1.50            1.996             4.2   \n",
       "316             -6.0             1.50            1.994             4.2   \n",
       "317             -6.0             1.50            1.995             4.2   \n",
       "318             -6.0             1.50            1.995             4.2   \n",
       "319             -6.0             1.50            1.995             4.2   \n",
       "\n",
       "    Charge_Capacity (Ah)  Discharge_Capacity (Ah)  Charge_Energy (Wh)  \\\n",
       "0                  1.036                    1.033               3.495   \n",
       "1                  1.035                    1.032               3.492   \n",
       "2                  1.034                    1.031               3.488   \n",
       "3                  1.033                    1.030               3.490   \n",
       "4                  1.031                    1.028               3.495   \n",
       "..                   ...                      ...                 ...   \n",
       "315                2.529                    2.527               9.814   \n",
       "316                2.518                    2.506               9.769   \n",
       "317                2.484                    2.482               9.650   \n",
       "318                2.477                    2.478               9.617   \n",
       "319                2.455                    2.458               9.535   \n",
       "\n",
       "     Discharge_Energy (Wh)  Coulombic_Efficiency (%)  \n",
       "0                    3.213                 99.710425  \n",
       "1                    3.212                 99.710145  \n",
       "2                    3.210                 99.709865  \n",
       "3                    3.193                 99.709584  \n",
       "4                    3.169                 99.709020  \n",
       "..                     ...                       ...  \n",
       "315                  8.388                 99.920917  \n",
       "316                  8.332                 99.523431  \n",
       "317                  8.197                 99.919485  \n",
       "318                  8.208                100.040371  \n",
       "319                  8.145                100.122200  \n",
       "\n",
       "[320 rows x 26 columns]"
      ]
     },
     "execution_count": 90,
     "metadata": {},
     "output_type": "execute_result"
    }
   ],
   "source": [
    "#Read Dataset\n",
    "data = pd.read_csv('/Users/jasperz/Desktop/battery.csv')\n",
    "data"
   ]
  },
  {
   "cell_type": "code",
   "execution_count": 81,
   "id": "3a517354",
   "metadata": {},
   "outputs": [
    {
     "data": {
      "text/plain": [
       "pandas.core.frame.DataFrame"
      ]
     },
     "execution_count": 81,
     "metadata": {},
     "output_type": "execute_result"
    }
   ],
   "source": [
    "#Split Dataset\n",
    "X = data[[\"cathode\", \"electrolyte\", \"Cycle\", \"temperature\", \"discharge_crate\"]]\n",
    "y = data[[\"Discharge_Energy (Wh)\"]]\n",
    "type(y)"
   ]
  },
  {
   "cell_type": "code",
   "execution_count": 91,
   "id": "4295563a",
   "metadata": {},
   "outputs": [],
   "source": [
    "#Sclaer test set\n",
    "X_train_pn, X_test_pn, y_train, y_test = train_test_split(X, y, test_size=0.25, random_state=42)\n",
    "X_train_scaler = StandardScaler().fit(X_train_pn)\n",
    "X_train = X_train_scaler.transform(X_train_pn)"
   ]
  },
  {
   "cell_type": "code",
   "execution_count": 92,
   "id": "862ea7ac",
   "metadata": {},
   "outputs": [],
   "source": [
    "X_train_scaler = StandardScaler().fit(X_train_pn)\n",
    "X_train = X_train_scaler.transform(X_train_pn)"
   ]
  },
  {
   "cell_type": "code",
   "execution_count": 93,
   "id": "1e03991c",
   "metadata": {},
   "outputs": [
    {
     "name": "stdout",
     "output_type": "stream",
     "text": [
      "Model: \"sequential_82\"\n",
      "_________________________________________________________________\n",
      " Layer (type)                Output Shape              Param #   \n",
      "=================================================================\n",
      " dense_364 (Dense)           (None, 6)                 36        \n",
      "                                                                 \n",
      " dense_365 (Dense)           (None, 12)                84        \n",
      "                                                                 \n",
      " dense_366 (Dense)           (None, 8)                 104       \n",
      "                                                                 \n",
      " dense_367 (Dense)           (None, 1)                 9         \n",
      "                                                                 \n",
      "=================================================================\n",
      "Total params: 233\n",
      "Trainable params: 233\n",
      "Non-trainable params: 0\n",
      "_________________________________________________________________\n"
     ]
    }
   ],
   "source": [
    "#Define sn\n",
    "def sn():\n",
    "    model = Sequential()\n",
    "    model.add(Dense(6, input_dim = 5, kernel_initializer='normal', activation='relu'))\n",
    "    model.add(Dense(12,activation='relu'))\n",
    "    model.add(Dense(8, activation='relu'))\n",
    "    model.add(Dense(1, activation='sigmoid'))\n",
    "    model.compile(loss='mean_squared_error', optimizer='adam', metrics=['accuracy'])\n",
    "    return model\n",
    "\n",
    "mymodel = sn()\n",
    "mymodel.summary()"
   ]
  },
  {
   "cell_type": "code",
   "execution_count": 94,
   "id": "7a6de6b4",
   "metadata": {},
   "outputs": [
    {
     "name": "stderr",
     "output_type": "stream",
     "text": [
      "/var/folders/4x/0gkbgs9d6tj2xphl99ymwrqw0000gn/T/ipykernel_5826/3062809654.py:2: DeprecationWarning: KerasRegressor is deprecated, use Sci-Keras (https://github.com/adriangb/scikeras) instead. See https://www.adriangb.com/scikeras/stable/migration.html for help migrating.\n",
      "  estimator = KerasRegressor(build_fn=sn, validation_split=0.33, epochs=190, batch_size=30, verbose=0)\n"
     ]
    }
   ],
   "source": [
    "#Define estimator\n",
    "estimator = KerasRegressor(build_fn=sn, validation_split=0.33, epochs=190, batch_size=30, verbose=0)"
   ]
  },
  {
   "cell_type": "code",
   "execution_count": 95,
   "id": "70117b87",
   "metadata": {},
   "outputs": [],
   "source": [
    "#Train Data\n",
    "history = estimator.fit(X_train, y_train, validation_split = 0.33, epochs=190, batch_size=30, verbose=0)"
   ]
  },
  {
   "cell_type": "code",
   "execution_count": 96,
   "id": "4bf8b5b0",
   "metadata": {},
   "outputs": [
    {
     "name": "stdout",
     "output_type": "stream",
     "text": [
      "dict_keys(['loss', 'accuracy', 'val_loss', 'val_accuracy'])\n"
     ]
    }
   ],
   "source": [
    "print(history.history.keys())"
   ]
  },
  {
   "cell_type": "code",
   "execution_count": 97,
   "id": "9f86d9ad",
   "metadata": {},
   "outputs": [
    {
     "name": "stdout",
     "output_type": "stream",
     "text": [
      "final MSE for train is 27.95 and for validation is 28.46\n"
     ]
    }
   ],
   "source": [
    "print(\"final MSE for train is %.2f and for validation is %.2f\" % \n",
    "      (history.history['loss'][-1], history.history['val_loss'][-1]))"
   ]
  },
  {
   "cell_type": "code",
   "execution_count": 98,
   "id": "1efa8bda",
   "metadata": {},
   "outputs": [
    {
     "data": {
      "image/png": "[encoded data removed]",
      "text/plain": [
       "<Figure size 432x288 with 1 Axes>"
      ]
     },
     "metadata": {
      "needs_background": "light"
     },
     "output_type": "display_data"
    }
   ],
   "source": [
    "plt.plot(history.history['loss'], '--', c='b')\n",
    "plt.plot(history.history['val_loss'], c='crimson')\n",
    "plt.title('model loss of discharge capacity')\n",
    "plt.ylabel('loss')\n",
    "plt.xlabel('epoch')\n",
    "plt.legend(['train', 'validation'], loc='upper right')\n",
    "plt.show()"
   ]
  },
  {
   "cell_type": "code",
   "execution_count": 100,
   "id": "3a7e749a",
   "metadata": {},
   "outputs": [
    {
     "name": "stdout",
     "output_type": "stream",
     "text": [
      "Results: 28.12 (5.07) MSE\n"
     ]
    }
   ],
   "source": [
    "#Define K-fold\n",
    "kfold = KFold(n_splits=10, random_state=42, shuffle=True)\n",
    "results = cross_val_score(estimator, X_train, y_train, cv=kfold)\n",
    "print(\"Results: %.2f (%.2f) MSE\" % (-1 * results.mean(), results.std()))"
   ]
  },
  {
   "cell_type": "code",
   "execution_count": 113,
   "id": "c48a6454",
   "metadata": {},
   "outputs": [],
   "source": [
    "import tensorflow as tf \n",
    "def medium_network():\n",
    " \n",
    "    model = Sequential()\n",
    "    model.add(Dense(600, input_dim=5, kernel_initializer='normal', activation='relu'))\n",
    "    model.add(Dense(120, kernel_initializer='normal', activation='relu'))\n",
    "    model.add(Dense(120,activation='relu'))\n",
    "    model.add(Dense(120, activation='relu'))\n",
    "    model.add(Dense(1, activation='sigmoid'))\n",
    "    model.add(Dense(1, kernel_initializer='normal'))\n",
    "    \n",
    "    opt = tf.keras.optimizers.Adam(learning_rate=0.9)\n",
    "    \n",
    "    model.compile(loss='mean_squared_error', optimizer=opt, metrics=['accuracy'])\n",
    "    return model"
   ]
  },
  {
   "cell_type": "code",
   "execution_count": 114,
   "id": "5a6f23bc",
   "metadata": {},
   "outputs": [
    {
     "name": "stdout",
     "output_type": "stream",
     "text": [
      "Model: \"sequential_119\"\n",
      "_________________________________________________________________\n",
      " Layer (type)                Output Shape              Param #   \n",
      "=================================================================\n",
      " dense_519 (Dense)           (None, 600)               3600      \n",
      "                                                                 \n",
      " dense_520 (Dense)           (None, 120)               72120     \n",
      "                                                                 \n",
      " dense_521 (Dense)           (None, 120)               14520     \n",
      "                                                                 \n",
      " dense_522 (Dense)           (None, 120)               14520     \n",
      "                                                                 \n",
      " dense_523 (Dense)           (None, 1)                 121       \n",
      "                                                                 \n",
      " dense_524 (Dense)           (None, 1)                 2         \n",
      "                                                                 \n",
      "=================================================================\n",
      "Total params: 104,883\n",
      "Trainable params: 104,883\n",
      "Non-trainable params: 0\n",
      "_________________________________________________________________\n"
     ]
    }
   ],
   "source": [
    "my_model = medium_network()\n",
    "my_model.summary()"
   ]
  },
  {
   "cell_type": "code",
   "execution_count": 115,
   "id": "4ce00654",
   "metadata": {},
   "outputs": [
    {
     "name": "stderr",
     "output_type": "stream",
     "text": [
      "/var/folders/4x/0gkbgs9d6tj2xphl99ymwrqw0000gn/T/ipykernel_5826/2462997206.py:3: DeprecationWarning: KerasRegressor is deprecated, use Sci-Keras (https://github.com/adriangb/scikeras) instead. See https://www.adriangb.com/scikeras/stable/migration.html for help migrating.\n",
      "  estimator = KerasRegressor(build_fn=medium_network,\n"
     ]
    },
    {
     "name": "stdout",
     "output_type": "stream",
     "text": [
      "Final MSE for train is 9.078e+00 and for validation is 8.227e+00\n"
     ]
    }
   ],
   "source": [
    "# Set random seed\n",
    "# Create the NN framework\n",
    "estimator = KerasRegressor(build_fn=medium_network,\n",
    "        epochs=150, batch_size=10000, verbose=0)\n",
    "# Fit to training data\n",
    "history = estimator.fit(X_train, y_train, validation_split=0.30, epochs=150, \n",
    "        batch_size=10000, verbose=0)\n",
    "\n",
    "print(\"Final MSE for train is %.3e and for validation is %.3e\" % \n",
    "      (history.history['loss'][-1], history.history['val_loss'][-1]))"
   ]
  },
  {
   "cell_type": "code",
   "execution_count": 116,
   "id": "a9f23ef6",
   "metadata": {},
   "outputs": [
    {
     "data": {
      "image/png": "[encoded data removed]",
      "text/plain": [
       "<Figure size 432x288 with 1 Axes>"
      ]
     },
     "metadata": {
      "needs_background": "light"
     },
     "output_type": "display_data"
    }
   ],
   "source": [
    "plt.plot(history.history['loss'],'--',c='b')\n",
    "plt.plot(history.history['val_loss'],c='crimson')\n",
    "plt.title('model loss of discharge capacity')\n",
    "plt.ylabel('loss')\n",
    "plt.xlabel('epoch')\n",
    "plt.xlim([0,50])\n",
    "plt.ylim([0,20])\n",
    "plt.legend(['train', 'validation'], loc='upper right')\n",
    "plt.show()"
   ]
  },
  {
   "cell_type": "code",
   "execution_count": 117,
   "id": "6df311f5",
   "metadata": {},
   "outputs": [
    {
     "name": "stdout",
     "output_type": "stream",
     "text": [
      "3/3 [==============================] - 0s 3ms/step - loss: 8.6802 - accuracy: 0.0000e+00\n",
      "[8.680193901062012, 0.0]\n"
     ]
    }
   ],
   "source": [
    "test_loss = estimator.model.evaluate(X_test_pn, y_test)\n",
    "print(test_loss)"
   ]
  },
  {
   "cell_type": "code",
   "execution_count": 118,
   "id": "56198e78",
   "metadata": {},
   "outputs": [],
   "source": [
    "y2 = data[[\"Charge_Energy (Wh)\"]]"
   ]
  },
  {
   "cell_type": "code",
   "execution_count": 124,
   "id": "25dfb8fa",
   "metadata": {},
   "outputs": [],
   "source": [
    "X_train_pn, X_test_pn, y_train, y_test = train_test_split(X, y2, test_size=0.25, random_state=42)\n",
    "\n",
    "X_train_scaler = StandardScaler().fit(X_train_pn)\n",
    "\n",
    "\n",
    "X_train = X_train_scaler.transform(X_train_pn)"
   ]
  },
  {
   "cell_type": "code",
   "execution_count": 125,
   "id": "63650507",
   "metadata": {},
   "outputs": [
    {
     "name": "stderr",
     "output_type": "stream",
     "text": [
      "/var/folders/4x/0gkbgs9d6tj2xphl99ymwrqw0000gn/T/ipykernel_5826/2906443657.py:1: DeprecationWarning: KerasRegressor is deprecated, use Sci-Keras (https://github.com/adriangb/scikeras) instead. See https://www.adriangb.com/scikeras/stable/migration.html for help migrating.\n",
      "  estimator = KerasRegressor(build_fn=medium_network,\n"
     ]
    },
    {
     "name": "stdout",
     "output_type": "stream",
     "text": [
      "Final MSE for train is 1.283e+01 and for validation is 1.232e+01\n"
     ]
    }
   ],
   "source": [
    "estimator = KerasRegressor(build_fn=medium_network,\n",
    "        epochs=150, batch_size=10000, verbose=0)\n",
    "# Fit to training data\n",
    "history = estimator.fit(X_train, y_train, validation_split=0.30, epochs=150, \n",
    "        batch_size=10000, verbose=0)\n",
    "\n",
    "print(\"Final MSE for train is %.3e and for validation is %.3e\" % \n",
    "      (history.history['loss'][-1], history.history['val_loss'][-1]))\n"
   ]
  },
  {
   "cell_type": "code",
   "execution_count": 126,
   "id": "709c26ca",
   "metadata": {},
   "outputs": [
    {
     "data": {
      "image/png": "[encoded data removed]",
      "text/plain": [
       "<Figure size 432x288 with 1 Axes>"
      ]
     },
     "metadata": {
      "needs_background": "light"
     },
     "output_type": "display_data"
    }
   ],
   "source": [
    "plt.plot(history.history['loss'],'--',c='b')\n",
    "plt.plot(history.history['val_loss'],c='crimson')\n",
    "plt.title('model loss of charge energy')\n",
    "plt.ylabel('loss')\n",
    "plt.xlabel('epoch')\n",
    "plt.xlim([0,50])\n",
    "plt.ylim([0,20])\n",
    "plt.legend(['train', 'validation'], loc='upper right')\n",
    "plt.show()"
   ]
  },
  {
   "cell_type": "code",
   "execution_count": 134,
   "id": "8f2e5017",
   "metadata": {},
   "outputs": [],
   "source": [
    "y3 = data[[\"Discharge_Energy (Wh)\"]]"
   ]
  },
  {
   "cell_type": "code",
   "execution_count": 129,
   "id": "3e924a45",
   "metadata": {},
   "outputs": [],
   "source": [
    "X_train_pn, X_test_pn, y_train, y_test = train_test_split(X, y3, test_size=0.25, random_state=42)\n",
    "\n",
    "X_train_scaler = StandardScaler().fit(X_train_pn)\n",
    "\n",
    "\n",
    "X_train = X_train_scaler.transform(X_train_pn)"
   ]
  },
  {
   "cell_type": "code",
   "execution_count": 130,
   "id": "d2505da0",
   "metadata": {},
   "outputs": [
    {
     "name": "stderr",
     "output_type": "stream",
     "text": [
      "/var/folders/4x/0gkbgs9d6tj2xphl99ymwrqw0000gn/T/ipykernel_5826/2906443657.py:1: DeprecationWarning: KerasRegressor is deprecated, use Sci-Keras (https://github.com/adriangb/scikeras) instead. See https://www.adriangb.com/scikeras/stable/migration.html for help migrating.\n",
      "  estimator = KerasRegressor(build_fn=medium_network,\n"
     ]
    },
    {
     "name": "stdout",
     "output_type": "stream",
     "text": [
      "Final MSE for train is 9.078e+00 and for validation is 8.227e+00\n"
     ]
    }
   ],
   "source": [
    "estimator = KerasRegressor(build_fn=medium_network,\n",
    "        epochs=150, batch_size=10000, verbose=0)\n",
    "# Fit to training data\n",
    "history = estimator.fit(X_train, y_train, validation_split=0.30, epochs=150, \n",
    "        batch_size=10000, verbose=0)\n",
    "\n",
    "print(\"Final MSE for train is %.3e and for validation is %.3e\" % \n",
    "      (history.history['loss'][-1], history.history['val_loss'][-1]))\n"
   ]
  },
  {
   "cell_type": "code",
   "execution_count": 131,
   "id": "54dbf2f4",
   "metadata": {},
   "outputs": [
    {
     "data": {
      "image/png": "[encoded data removed]",
      "text/plain": [
       "<Figure size 432x288 with 1 Axes>"
      ]
     },
     "metadata": {
      "needs_background": "light"
     },
     "output_type": "display_data"
    }
   ],
   "source": [
    "plt.plot(history.history['loss'],'--',c='b')\n",
    "plt.plot(history.history['val_loss'],c='crimson')\n",
    "plt.title('model loss of discharge energy')\n",
    "plt.ylabel('loss')\n",
    "plt.xlabel('epoch')\n",
    "plt.xlim([0,50])\n",
    "plt.ylim([0,20])\n",
    "plt.legend(['train', 'validation'], loc='upper right')\n",
    "plt.show()"
   ]
  },
  {
   "cell_type": "code",
   "execution_count": 133,
   "id": "8139a980",
   "metadata": {},
   "outputs": [],
   "source": [
    "y4 = data[[\"Coulombic_Efficiency (%)\"]]"
   ]
  },
  {
   "cell_type": "code",
   "execution_count": 136,
   "id": "be3cf7e7",
   "metadata": {},
   "outputs": [],
   "source": [
    "X_train_pn, X_test_pn, y_train, y_test = train_test_split(X, y4, test_size=0.25, random_state=42)\n",
    "\n",
    "X_train_scaler = StandardScaler().fit(X_train_pn)\n",
    "\n",
    "\n",
    "X_train = X_train_scaler.transform(X_train_pn)"
   ]
  },
  {
   "cell_type": "code",
   "execution_count": 137,
   "id": "924f15df",
   "metadata": {},
   "outputs": [
    {
     "name": "stderr",
     "output_type": "stream",
     "text": [
      "/var/folders/4x/0gkbgs9d6tj2xphl99ymwrqw0000gn/T/ipykernel_5826/2906443657.py:1: DeprecationWarning: KerasRegressor is deprecated, use Sci-Keras (https://github.com/adriangb/scikeras) instead. See https://www.adriangb.com/scikeras/stable/migration.html for help migrating.\n",
      "  estimator = KerasRegressor(build_fn=medium_network,\n"
     ]
    },
    {
     "name": "stdout",
     "output_type": "stream",
     "text": [
      "Final MSE for train is 1.228e+02 and for validation is 1.155e+02\n"
     ]
    }
   ],
   "source": [
    "estimator = KerasRegressor(build_fn=medium_network,\n",
    "        epochs=150, batch_size=10000, verbose=0)\n",
    "# Fit to training data\n",
    "history = estimator.fit(X_train, y_train, validation_split=0.30, epochs=150, \n",
    "        batch_size=10000, verbose=0)\n",
    "\n",
    "print(\"Final MSE for train is %.3e and for validation is %.3e\" % \n",
    "      (history.history['loss'][-1], history.history['val_loss'][-1]))\n"
   ]
  },
  {
   "cell_type": "code",
   "execution_count": 141,
   "id": "a71429b9",
   "metadata": {},
   "outputs": [
    {
     "data": {
      "image/png": "[encoded data removed]",
      "text/plain": [
       "<Figure size 432x288 with 1 Axes>"
      ]
     },
     "metadata": {
      "needs_background": "light"
     },
     "output_type": "display_data"
    }
   ],
   "source": [
    "plt.plot(history.history['loss'],'--',c='b')\n",
    "plt.plot(history.history['val_loss'],c='crimson')\n",
    "plt.title('model loss of CE')\n",
    "plt.ylabel('loss')\n",
    "plt.xlabel('epoch')\n",
    "plt.xlim([0,1000])\n",
    "plt.ylim([0,500])\n",
    "plt.legend(['train', 'validation'], loc='upper right')\n",
    "plt.show()"
   ]
  },
  {
   "cell_type": "code",
   "execution_count": null,
   "id": "4df9b0ec",
   "metadata": {},
   "outputs": [],
   "source": []
  }
 ],
 "metadata": {
  "kernelspec": {
   "display_name": "Python 3 (ipykernel)",
   "language": "python",
   "name": "python3"
  },
  "language_info": {
   "codemirror_mode": {
    "name": "ipython",
    "version": 3
   },
   "file_extension": ".py",
   "mimetype": "text/x-python",
   "name": "python",
   "nbconvert_exporter": "python",
   "pygments_lexer": "ipython3",
   "version": "3.9.7"
  }
 },
 "nbformat": 4,
 "nbformat_minor": 5
}
