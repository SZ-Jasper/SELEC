{
 "cells": [
  {
   "cell_type": "code",
   "execution_count": 1,
   "id": "57538d2e",
   "metadata": {},
   "outputs": [],
   "source": [
    "import numpy as np\n",
    "import pandas as pd\n",
    "import matplotlib.pyplot as plt\n",
    "import scipy \n",
    "import os\n",
    "# import seaborn as sns\n",
    "# import scipy.stats as stats\n",
    "import unittest"
   ]
  },
  {
   "cell_type": "code",
   "execution_count": 2,
   "id": "42774e54",
   "metadata": {},
   "outputs": [],
   "source": [
    "#Make sure you ran \"Battry_Dataset\" Notebook first\n",
    "pd.set_option(\"display.max_rows\", None, \"display.max_columns\", None)\n",
    "\n",
    "df_battery = pd.read_csv('Battery_Dataset.csv')"
   ]
  },
  {
   "cell_type": "code",
   "execution_count": 3,
   "id": "b7aceb49",
   "metadata": {},
   "outputs": [],
   "source": [
    "desc = ['NMC', 50, 15, 1.0] #What I expect to come out of GUI"
   ]
  },
  {
   "cell_type": "code",
   "execution_count": 4,
   "id": "344b30f5",
   "metadata": {},
   "outputs": [],
   "source": [
    "battery_anode = {\n",
    "    0: 'Graphite'\n",
    "}\n",
    "\n",
    "battery_cathode = {\n",
    "    0: 'LFP',\n",
    "    1: 'NCA',\n",
    "    2: 'NMC',\n",
    "}\n",
    "\n",
    "battery_electrolyte = {\n",
    "    0: 'A123',\n",
    "    1: 'Pan',\n",
    "    2: 'LGC',\n",
    "}"
   ]
  },
  {
   "cell_type": "code",
   "execution_count": 5,
   "id": "6ae71f10",
   "metadata": {},
   "outputs": [],
   "source": [
    "def cathode_class(description):\n",
    "    for i in range(len(list(battery_cathode.values()))):\n",
    "        j = 0\n",
    "        for key, value in battery_cathode.items():\n",
    "            if value in list(battery_cathode.values())[i] == description[j]:\n",
    "                return(key)\n",
    "        j += 1\n",
    "cc = cathode_class(desc)"
   ]
  },
  {
   "cell_type": "code",
   "execution_count": 6,
   "id": "b67f4d9e",
   "metadata": {},
   "outputs": [],
   "source": [
    "ec = list(battery_electrolyte.keys())"
   ]
  },
  {
   "cell_type": "code",
   "execution_count": 7,
   "id": "e5be0bd0",
   "metadata": {},
   "outputs": [],
   "source": [
    "column_names = ['cathode','electrolyte','Cycle','temperature','discharge_crate']\n",
    "X = pd.DataFrame(columns = column_names)"
   ]
  },
  {
   "cell_type": "code",
   "execution_count": 8,
   "id": "90660215",
   "metadata": {},
   "outputs": [],
   "source": [
    "for i in range(len(list(battery_electrolyte.keys()))):\n",
    "    X.loc[i] = [cc,ec[i],desc[1],desc[2],desc[3]]"
   ]
  },
  {
   "cell_type": "code",
   "execution_count": 9,
   "id": "f6d9754d",
   "metadata": {},
   "outputs": [
    {
     "data": {
      "text/html": [
       "<div>\n",
       "<style scoped>\n",
       "    .dataframe tbody tr th:only-of-type {\n",
       "        vertical-align: middle;\n",
       "    }\n",
       "\n",
       "    .dataframe tbody tr th {\n",
       "        vertical-align: top;\n",
       "    }\n",
       "\n",
       "    .dataframe thead th {\n",
       "        text-align: right;\n",
       "    }\n",
       "</style>\n",
       "<table border=\"1\" class=\"dataframe\">\n",
       "  <thead>\n",
       "    <tr style=\"text-align: right;\">\n",
       "      <th></th>\n",
       "      <th>cathode</th>\n",
       "      <th>electrolyte</th>\n",
       "      <th>Cycle</th>\n",
       "      <th>temperature</th>\n",
       "      <th>discharge_crate</th>\n",
       "    </tr>\n",
       "  </thead>\n",
       "  <tbody>\n",
       "    <tr>\n",
       "      <th>0</th>\n",
       "      <td>2.0</td>\n",
       "      <td>0.0</td>\n",
       "      <td>50.0</td>\n",
       "      <td>15.0</td>\n",
       "      <td>1.0</td>\n",
       "    </tr>\n",
       "    <tr>\n",
       "      <th>1</th>\n",
       "      <td>2.0</td>\n",
       "      <td>1.0</td>\n",
       "      <td>50.0</td>\n",
       "      <td>15.0</td>\n",
       "      <td>1.0</td>\n",
       "    </tr>\n",
       "    <tr>\n",
       "      <th>2</th>\n",
       "      <td>2.0</td>\n",
       "      <td>2.0</td>\n",
       "      <td>50.0</td>\n",
       "      <td>15.0</td>\n",
       "      <td>1.0</td>\n",
       "    </tr>\n",
       "  </tbody>\n",
       "</table>\n",
       "</div>"
      ],
      "text/plain": [
       "   cathode  electrolyte  Cycle  temperature  discharge_crate\n",
       "0      2.0          0.0   50.0         15.0              1.0\n",
       "1      2.0          1.0   50.0         15.0              1.0\n",
       "2      2.0          2.0   50.0         15.0              1.0"
      ]
     },
     "execution_count": 9,
     "metadata": {},
     "output_type": "execute_result"
    }
   ],
   "source": [
    "X"
   ]
  }
 ],
 "metadata": {
  "kernelspec": {
   "display_name": "Python 3 (ipykernel)",
   "language": "python",
   "name": "python3"
  },
  "language_info": {
   "codemirror_mode": {
    "name": "ipython",
    "version": 3
   },
   "file_extension": ".py",
   "mimetype": "text/x-python",
   "name": "python",
   "nbconvert_exporter": "python",
   "pygments_lexer": "ipython3",
   "version": "3.10.0"
  }
 },
 "nbformat": 4,
 "nbformat_minor": 5
}
