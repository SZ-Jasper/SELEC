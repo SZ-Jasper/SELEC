{
 "cells": [
  {
   "cell_type": "code",
   "execution_count": 1,
   "id": "90962608",
   "metadata": {},
   "outputs": [],
   "source": [
    "import numpy as np\n",
    "import pandas as pd\n",
    "import matplotlib.pyplot as plt\n",
    "import scipy \n",
    "import os\n",
    "# import seaborn as sns\n",
    "# import scipy.stats as stats\n",
    "import unittest"
   ]
  },
  {
   "cell_type": "code",
   "execution_count": 2,
   "id": "3ded1927",
   "metadata": {},
   "outputs": [],
   "source": [
    "#Make sure you ran \"Battry_Dataset\" Notebook first\n",
    "pd.set_option(\"display.max_rows\", None, \"display.max_columns\", None)\n",
    "\n",
    "%store -r df_battery\n",
    "#df_battery"
   ]
  },
  {
   "cell_type": "code",
   "execution_count": 3,
   "id": "5095f963",
   "metadata": {},
   "outputs": [],
   "source": [
    "import csv\n",
    "from sklearn.gaussian_process import GaussianProcessRegressor\n",
    "from sklearn.gaussian_process.kernels import WhiteKernel, DotProduct, RBF\n",
    "from sklearn.model_selection import KFold \n",
    "import math\n",
    "\n",
    "import sklearn\n",
    "import statistics as stcs\n",
    "import scipy.stats as stats\n",
    "\n",
    "\n",
    "from sklearn.model_selection import GridSearchCV, RandomizedSearchCV\n",
    "from sklearn.svm import SVR\n",
    "from sklearn.pipeline import make_pipeline\n",
    "from sklearn.preprocessing import StandardScaler,scale,MinMaxScaler\n",
    "from scipy.stats import uniform,expon\n",
    "from sklearn.model_selection import cross_val_score\n",
    "from time import time"
   ]
  },
  {
   "cell_type": "code",
   "execution_count": 4,
   "id": "39daf38c",
   "metadata": {},
   "outputs": [],
   "source": [
    "data = df_battery\n",
    "\n",
    "np.random.seed(66)\n",
    "def data_split (data, test_ratio):\n",
    "    df = pd.DataFrame(data)\n",
    "    total_row = df.shape[0]\n",
    "\n",
    "    test_row = round(total_row *test_ratio)\n",
    "\n",
    "    train_row = total_row -test_row\n",
    "    \n",
    "    indices =np.random.permutation(total_row)\n",
    "    train_indx, test_idx =indices[:train_row], indices[train_row:]\n",
    "    train,test = df.iloc[train_indx,:], df.iloc[test_idx,:]\n",
    "    X_test = test.iloc[:,3:8]\n",
    "    y_test = test.iloc [:,22:23]\n",
    "    X_train = train.iloc[:,3:8]\n",
    "    y_train = train.iloc [:,22:23]\n",
    "    return train,test,X_train,y_train,X_test,y_test\n",
    "    \n",
    "train,test,X_train,y_train,X_test,y_test = data_split(data,0.2)\n"
   ]
  },
  {
   "cell_type": "code",
   "execution_count": 5,
   "id": "06a36e1e",
   "metadata": {},
   "outputs": [],
   "source": [
    "#k-fold cross validation\n",
    "kf = KFold(n_splits=10,random_state =66,shuffle= True)\n",
    "#print(X_test,y_test,X_train,y_train)"
   ]
  },
  {
   "cell_type": "code",
   "execution_count": null,
   "id": "6ff16daa",
   "metadata": {},
   "outputs": [],
   "source": [
    "#Tuning hyperparameters"
   ]
  }
 ],
 "metadata": {
  "kernelspec": {
   "display_name": "Python 3 (ipykernel)",
   "language": "python",
   "name": "python3"
  },
  "language_info": {
   "codemirror_mode": {
    "name": "ipython",
    "version": 3
   },
   "file_extension": ".py",
   "mimetype": "text/x-python",
   "name": "python",
   "nbconvert_exporter": "python",
   "pygments_lexer": "ipython3",
   "version": "3.9.5"
  }
 },
 "nbformat": 4,
 "nbformat_minor": 5
}
