{
 "cells": [
  {
   "cell_type": "code",
   "execution_count": 1,
   "id": "323558d1",
   "metadata": {},
   "outputs": [],
   "source": [
    "from model.knn import *\n",
    "import pandas as pd"
   ]
  },
  {
   "cell_type": "code",
   "execution_count": 2,
   "id": "ef50a435",
   "metadata": {},
   "outputs": [],
   "source": [
    "# import battery dataset, may have to change path\n",
    "df_battery = pd.read_csv('../data/Battery_Dataset.csv')"
   ]
  },
  {
   "cell_type": "code",
   "execution_count": 3,
   "id": "a0b08102",
   "metadata": {},
   "outputs": [
    {
     "data": {
      "text/plain": [
       "KFold(n_splits=10, random_state=66, shuffle=True)"
      ]
     },
     "execution_count": 3,
     "metadata": {},
     "output_type": "execute_result"
    }
   ],
   "source": [
    "#Create kfolds\n",
    "kf = kfold(10,66)\n",
    "kf"
   ]
  },
  {
   "cell_type": "code",
   "execution_count": 4,
   "id": "2f05e0f9",
   "metadata": {},
   "outputs": [
    {
     "name": "stdout",
     "output_type": "stream",
     "text": [
      "auto 11 uniform\n"
     ]
    }
   ],
   "source": [
    "#Optimize knn hyperparameters with GridSearchCV\n",
    "alg, n_neigh, weight = grid_knn_hp(1, 51, df_battery, 'Discharge_Capacity (Ah)')\n",
    "print(alg, n_neigh, weight)"
   ]
  },
  {
   "cell_type": "code",
   "execution_count": 5,
   "id": "dc885e43",
   "metadata": {},
   "outputs": [
    {
     "data": {
      "text/plain": [
       "0.5424709619407795"
      ]
     },
     "execution_count": 5,
     "metadata": {},
     "output_type": "execute_result"
    }
   ],
   "source": [
    "#Split train set into a training set and validate set\n",
    "#Validate knn and calculate RMSE\n",
    "knn_train_RMSE_avg = knn_train(df_battery, 'Discharge_Capacity (Ah)')\n",
    "knn_train_RMSE_avg"
   ]
  },
  {
   "cell_type": "code",
   "execution_count": 6,
   "id": "62813fc9",
   "metadata": {},
   "outputs": [
    {
     "data": {
      "text/plain": [
       "0.5390168373581464"
      ]
     },
     "execution_count": 6,
     "metadata": {},
     "output_type": "execute_result"
    }
   ],
   "source": [
    "#Train knn, test, and calculate RMSE\n",
    "knn_test_RMSE = knn_test(df_battery, 'Discharge_Capacity (Ah)')\n",
    "knn_test_RMSE"
   ]
  },
  {
   "cell_type": "code",
   "execution_count": null,
   "id": "b5fd0ae1",
   "metadata": {},
   "outputs": [],
   "source": []
  },
  {
   "cell_type": "code",
   "execution_count": null,
   "id": "c95ed211",
   "metadata": {},
   "outputs": [],
   "source": []
  },
  {
   "cell_type": "code",
   "execution_count": null,
   "id": "b1d4287d",
   "metadata": {},
   "outputs": [],
   "source": []
  }
 ],
 "metadata": {
  "kernelspec": {
   "display_name": "Python 3 (ipykernel)",
   "language": "python",
   "name": "python3"
  },
  "language_info": {
   "codemirror_mode": {
    "name": "ipython",
    "version": 3
   },
   "file_extension": ".py",
   "mimetype": "text/x-python",
   "name": "python",
   "nbconvert_exporter": "python",
   "pygments_lexer": "ipython3",
   "version": "3.8.12"
  }
 },
 "nbformat": 4,
 "nbformat_minor": 5
}
