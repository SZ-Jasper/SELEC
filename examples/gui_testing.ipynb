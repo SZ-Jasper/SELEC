{
 "cells": [
  {
   "cell_type": "code",
   "execution_count": 1,
   "id": "78295f72",
   "metadata": {},
   "outputs": [
    {
     "ename": "ModuleNotFoundError",
     "evalue": "No module named 'batt_descriptor'",
     "output_type": "error",
     "traceback": [
      "\u001b[0;31m---------------------------------------------------------------------------\u001b[0m",
      "\u001b[0;31mModuleNotFoundError\u001b[0m                       Traceback (most recent call last)",
      "\u001b[0;32m/tmp/ipykernel_272/191217686.py\u001b[0m in \u001b[0;36m<module>\u001b[0;34m\u001b[0m\n\u001b[1;32m     14\u001b[0m \u001b[0;32mfrom\u001b[0m \u001b[0msklearn\u001b[0m\u001b[0;34m.\u001b[0m\u001b[0mmetrics\u001b[0m \u001b[0;32mimport\u001b[0m \u001b[0mmean_squared_error\u001b[0m\u001b[0;34m\u001b[0m\u001b[0;34m\u001b[0m\u001b[0m\n\u001b[1;32m     15\u001b[0m \u001b[0;34m\u001b[0m\u001b[0m\n\u001b[0;32m---> 16\u001b[0;31m \u001b[0;32mfrom\u001b[0m \u001b[0mbatt_descriptor\u001b[0m\u001b[0;34m.\u001b[0m\u001b[0mbatt_describe\u001b[0m \u001b[0;32mimport\u001b[0m \u001b[0;34m*\u001b[0m\u001b[0;34m\u001b[0m\u001b[0;34m\u001b[0m\u001b[0m\n\u001b[0m\u001b[1;32m     17\u001b[0m \u001b[0;32mfrom\u001b[0m \u001b[0mmodel\u001b[0m\u001b[0;34m.\u001b[0m\u001b[0mknn\u001b[0m \u001b[0;32mimport\u001b[0m \u001b[0;34m*\u001b[0m\u001b[0;34m\u001b[0m\u001b[0;34m\u001b[0m\u001b[0m\n\u001b[1;32m     18\u001b[0m \u001b[0;32mfrom\u001b[0m \u001b[0mpredictor\u001b[0m\u001b[0;34m.\u001b[0m\u001b[0mbatt_predict\u001b[0m \u001b[0;32mimport\u001b[0m \u001b[0;34m*\u001b[0m\u001b[0;34m\u001b[0m\u001b[0;34m\u001b[0m\u001b[0m\n",
      "\u001b[0;31mModuleNotFoundError\u001b[0m: No module named 'batt_descriptor'"
     ]
    }
   ],
   "source": [
    "import plotly.graph_objects as go\n",
    "import plotly.express as px\n",
    "import seaborn as sns\n",
    "import os\n",
    "import pickle\n",
    "import numpy as np\n",
    "import pandas as pd\n",
    "import sklearn\n",
    "from sklearn.preprocessing import OneHotEncoder\n",
    "from sklearn.neighbors import KNeighborsRegressor\n",
    "from sklearn.model_selection import KFold \n",
    "from sklearn.model_selection import GridSearchCV\n",
    "from sklearn.preprocessing import StandardScaler,scale,MinMaxScaler\n",
    "from sklearn.metrics import mean_squared_error\n",
    "\n",
    "from batt_descriptor.batt_describe import *\n",
    "from model.knn import *\n",
    "from predictor.batt_predict import *"
   ]
  },
  {
   "cell_type": "markdown",
   "id": "00a402bb",
   "metadata": {},
   "source": [
    "# Testing descriptor functions #"
   ]
  },
  {
   "cell_type": "code",
   "execution_count": null,
   "id": "26ebf368",
   "metadata": {},
   "outputs": [],
   "source": [
    "# Testing descriptor functions - 1\n",
    "df_encoded_ACE = ohe_ACE(df_battery)\n",
    "df_encoded_ACE"
   ]
  },
  {
   "cell_type": "code",
   "execution_count": null,
   "id": "59b8a683",
   "metadata": {},
   "outputs": [],
   "source": [
    "# Testing descriptor functions - 2\n",
    "df_enbattery = ohe_dataframe(df_battery)\n",
    "df_enbattery"
   ]
  },
  {
   "cell_type": "markdown",
   "id": "580747fb",
   "metadata": {},
   "source": [
    "# Testing model functions #"
   ]
  },
  {
   "cell_type": "code",
   "execution_count": null,
   "id": "1e8186b8",
   "metadata": {},
   "outputs": [],
   "source": [
    "# Testing model function - 1\n",
    "train,test,X_train,y_train,X_test,y_test = data_split(df_battery, 0.2, 'Discharge_Capacity (Ah)', 66)"
   ]
  },
  {
   "cell_type": "code",
   "execution_count": null,
   "id": "85c22111",
   "metadata": {},
   "outputs": [],
   "source": [
    "# Testing model function - 2\n",
    "kf = kfold(10,66)"
   ]
  },
  {
   "cell_type": "code",
   "execution_count": null,
   "id": "23f03f4e",
   "metadata": {},
   "outputs": [],
   "source": [
    "# Splitting data \n",
    "train,test,X_train,y_train,X_test,y_test = data_split(df_battery, 0.2, 'Discharge_Capacity (Ah)', 66)\n",
    "X_train_scaled, X_test_scaled = data_scale(X_train, X_test)\n",
    "X_test_scaled"
   ]
  },
  {
   "cell_type": "code",
   "execution_count": null,
   "id": "bfc4c5e1",
   "metadata": {},
   "outputs": [],
   "source": [
    "# Hyperparameter optimization\n",
    "alg, n_neigh, weight = grid_knn_hp(1, 51, df_battery, 'Discharge_Capacity (Ah)')\n",
    "print(alg, n_neigh, weight)"
   ]
  },
  {
   "cell_type": "code",
   "execution_count": null,
   "id": "6d0b80b2",
   "metadata": {},
   "outputs": [],
   "source": [
    "# training RMSE vibe check\n",
    "knn_train_RMSE_avg = knn_train(df_battery, 'Discharge_Capacity (Ah)')\n",
    "knn_train_RMSE_avg"
   ]
  },
  {
   "cell_type": "code",
   "execution_count": null,
   "id": "e4c3e02a",
   "metadata": {},
   "outputs": [],
   "source": [
    "# testing RMSE vibe check\n",
    "knn_test_RMSE = knn_test(df_battery, 'Discharge_Capacity (Ah)')\n",
    "knn_test_RMSE"
   ]
  },
  {
   "cell_type": "markdown",
   "id": "22c0a88a",
   "metadata": {},
   "source": [
    "# And finally, predictor #"
   ]
  },
  {
   "cell_type": "code",
   "execution_count": null,
   "id": "0b888198",
   "metadata": {},
   "outputs": [],
   "source": [
    "X_set = X_set_in(df_battery)\n",
    "X_set"
   ]
  },
  {
   "cell_type": "code",
   "execution_count": null,
   "id": "8e409977",
   "metadata": {},
   "outputs": [],
   "source": [
    "X_set = X_set_en(df_battery)\n",
    "X_set"
   ]
  },
  {
   "cell_type": "code",
   "execution_count": null,
   "id": "45ffe215",
   "metadata": {},
   "outputs": [],
   "source": [
    "X_bat, y_bat = df_prep(df_battery, 'Discharge_Capacity (Ah)')\n",
    "print(X_bat)\n",
    "print(y_bat)"
   ]
  },
  {
   "cell_type": "code",
   "execution_count": null,
   "id": "ff904375",
   "metadata": {},
   "outputs": [],
   "source": [
    "y_pred = battery_predictor(df_battery, 'Discharge_Capacity (Ah)')\n",
    "y_pred"
   ]
  },
  {
   "cell_type": "code",
   "execution_count": null,
   "id": "50fe4fb1",
   "metadata": {},
   "outputs": [],
   "source": [
    "pd.set_option(\"display.max_rows\", None, \"display.max_columns\", None)\n",
    "report = report_gen(df_battery)\n",
    "report"
   ]
  },
  {
   "cell_type": "code",
   "execution_count": null,
   "id": "884b5144",
   "metadata": {},
   "outputs": [],
   "source": [
    "def backend_to_frontend(df_battery, user_in, report):\n",
    "    \"\"\" \n",
    "    This function pulls the data from the report\n",
    "    based on the user input from the front end.\n",
    "    User input should be a list.\n",
    "    \"\"\"\n",
    "    report = report_gen(df_battery)\n",
    "    data_indices = []\n",
    "    n, m = report.shape\n",
    "    \n",
    "    for i in range(n):\n",
    "        if report['cathode'][i]==user_in[1] and \\\n",
    "        report['temperature'][i]==user_in[3] and \\\n",
    "        report['discharge_crate'][i]==user_in[4]:\n",
    "            data_indices.append(i)\n",
    "    \n",
    "    pulled_data = pd.DataFrame(columns = report.columns)\n",
    "    \n",
    "    for j in range(len(data_indices)):\n",
    "        pulled_data.loc[j] = report.iloc[data_indices[j], :]\n",
    "        \n",
    "    return pulled_data"
   ]
  },
  {
   "cell_type": "code",
   "execution_count": null,
   "id": "dd335b5c",
   "metadata": {
    "scrolled": true
   },
   "outputs": [],
   "source": [
    "# this function will take the report and the user input list as inputs\n",
    "# output will be pulled data\n",
    "user_in = ['graphite', 'LFP', 50, 25, 1.0]\n",
    "data_indices = []\n",
    "n, m = report.shape\n",
    "\n",
    "# here's a code to extract all the values \n",
    "# currently it only extractgs the values for one cycle number\n",
    "# but we can extend it to more later by doing something like:\n",
    "# append the next two values as well\n",
    "# if there are no more points, just show the last three points \n",
    "\n",
    "for i in range(n):\n",
    "    if report['cathode'][i]==user_in[1] and \\\n",
    "    report['temperature'][i]==user_in[3] and \\\n",
    "    report['discharge_crate'][i]==user_in[4]:\n",
    "        data_indices.append(i)\n",
    "        \n",
    "print(data_indices)\n",
    "\n",
    "pulled_data = pd.DataFrame(columns = report.columns)\n",
    "\n",
    "# we can edit this part to extract the other values as well\n",
    "# we also need to tie in the electrolyte to use as the label\n",
    "# we thinking ahead with the plotting, we can avoid fixing the connected plot lines\n",
    "# if we arrange this data structure smart enough\n",
    "\n",
    "for j in range(len(data_indices)):\n",
    "    pulled_data.loc[j] = report.iloc[data_indices[j], :]\n",
    "    \n",
    "pulled_data"
   ]
  },
  {
   "cell_type": "markdown",
   "id": "a76718b9",
   "metadata": {},
   "source": [
    "# Below is visualization testing #"
   ]
  },
  {
   "cell_type": "code",
   "execution_count": null,
   "id": "e1f662d4",
   "metadata": {},
   "outputs": [],
   "source": [
    "N = 70\n",
    "\n",
    "fig = go.Figure(data=[go.Mesh3d(x=(70*np.random.randn(N)),\n",
    "                   y=(55*np.random.randn(N)),\n",
    "                   z=(40*np.random.randn(N)),\n",
    "                   opacity=0.5,\n",
    "                   color='rgba(244,22,100,0.6)'\n",
    "                  )])\n",
    "\n",
    "fig.update_layout(\n",
    "    scene = dict(\n",
    "        xaxis = dict(nticks=4, range=[-100,100],),\n",
    "                     yaxis = dict(nticks=4, range=[-50,100],),\n",
    "                     zaxis = dict(nticks=4, range=[-100,100],),),\n",
    "    width=700,\n",
    "    margin=dict(r=20, l=10, b=10, t=10))\n",
    "\n",
    "fig.show()"
   ]
  },
  {
   "cell_type": "code",
   "execution_count": null,
   "id": "51417e7d",
   "metadata": {},
   "outputs": [],
   "source": [
    "x = [1,1,1] # input, strings (ex: 'NMC')\n",
    "y = [50,100,150] # input\n",
    "z = [13, 69, 21] # output\n",
    "\n",
    "fig = go.Figure(data=go.Scatter3d(\n",
    "    x=x, y=y, z=z,\n",
    "    marker=dict(\n",
    "        size=10,\n",
    "        color = x\n",
    "    ),\n",
    "    line=dict(\n",
    "        color=x,\n",
    "        width=3,\n",
    "        dash='dash'\n",
    "    ),\n",
    "    name='battery 1', text = 'battery 1'\n",
    "))\n",
    "\n",
    "fig.update_layout(title ={'text' :'help me', \n",
    "                          'x' : 0.5},\n",
    "                 scene = dict(\n",
    "                     xaxis = dict(\n",
    "                         nticks = 3,\n",
    "                         ticktext = ['NMC', 'NFP', 'LCA'],\n",
    "                         tickvals = [0, 1, 2],\n",
    "                     title = 'help'))\n",
    "                 )\n",
    "fig.show()"
   ]
  },
  {
   "cell_type": "code",
   "execution_count": null,
   "id": "439ce34b",
   "metadata": {},
   "outputs": [],
   "source": [
    "pulled_data.columns"
   ]
  },
  {
   "cell_type": "code",
   "execution_count": null,
   "id": "c18c40ce",
   "metadata": {},
   "outputs": [],
   "source": [
    "# first 10 points are A123\n",
    "elec_a123 = pulled_data.iloc[0:10, :]\n",
    "\n",
    "# next 10 are Pan\n",
    "elec_pan = pulled_data.iloc[10:20, :]\n",
    "\n",
    "# last ten are LGC\n",
    "elec_LGC = pulled_data.iloc[20:30, :]\n",
    "\n",
    "fig = go.Figure(data=go.Scatter3d(\n",
    "    x=elec_a123['electrolyte'], \n",
    "    y=elec_a123['Cycle'], \n",
    "    z=elec_a123['Charge_Capacity (Ah)'],\n",
    "    marker=dict(\n",
    "        size=10,\n",
    "        color = '#5271FF'\n",
    "    ),\n",
    "    line=dict(\n",
    "        color='#5271FF',\n",
    "        width=3,\n",
    "        dash='dash'\n",
    "    ),\n",
    "    name='A123'\n",
    "))\n",
    "\n",
    "\n",
    "fig.add_trace(\n",
    "    go.Scatter3d(\n",
    "        x=elec_pan['electrolyte'],\n",
    "        y=elec_pan['Cycle'],\n",
    "        z=elec_pan['Charge_Capacity (Ah)'],\n",
    "        marker=dict(\n",
    "            size=10,\n",
    "            color = '#FF5757'\n",
    "        ),\n",
    "        line=dict(\n",
    "            color='#FF5757',\n",
    "            width=3,\n",
    "            dash='dash'\n",
    "        ),\n",
    "        name='Panasonic'\n",
    "    )\n",
    ")\n",
    "\n",
    "\n",
    "fig.add_trace(\n",
    "    go.Scatter3d(\n",
    "        x=elec_LGC['electrolyte'], \n",
    "        y=elec_LGC['Cycle'],\n",
    "        z=elec_LGC['Charge_Capacity (Ah)'],\n",
    "        marker=dict(\n",
    "            size=10,\n",
    "            color = '#FFBD59'\n",
    "            #color = '#545454'\n",
    "        ),\n",
    "        line=dict(\n",
    "            color = '#FFBD59',\n",
    "            #color='#545454',\n",
    "            width=3,\n",
    "            dash='dash'\n",
    "        ),\n",
    "        name='LG Chem'\n",
    "    )\n",
    ")\n",
    "\n",
    "\n",
    "fig.update_layout(title ={'text' :user_in[1] + ' Cathode Charge Capacity', \n",
    "                          'x' : 0.5},\n",
    "                  autosize=False,\n",
    "                  width=800,\n",
    "                  height=600,\n",
    "                  font = dict(size = 15),\n",
    "                  scene = dict(\n",
    "                      xaxis = dict(\n",
    "                          nticks = 3,\n",
    "                          title = 'Electrolyte'),\n",
    "                      yaxis = dict(\n",
    "                          title = 'Cycles'),\n",
    "                      zaxis = dict(\n",
    "                          title = 'Charge Capacity [Ah]')\n",
    "                      )\n",
    "                  )\n",
    "\n",
    "fig.update_yaxes(automargin=True)\n",
    "\n",
    "fig.show()"
   ]
  },
  {
   "cell_type": "code",
   "execution_count": null,
   "id": "58429728",
   "metadata": {},
   "outputs": [],
   "source": [
    "fig1 = go.Figure(data=go.Scatter(x=elec_a123['Cycle'], \n",
    "                                 y=elec_a123['Coulombic_Efficiency (%)'],\n",
    "                                 marker=dict(\n",
    "                                 size=10,\n",
    "                                 color = '#5271FF'\n",
    "                                ),\n",
    "                                line=dict(\n",
    "                                    color='#5271FF',\n",
    "                                    width=3,\n",
    "                                    dash='dash'\n",
    "                                ),\n",
    "                                name='A123')\n",
    "                )\n",
    "\n",
    "fig1.add_trace(go.Scatter(x=elec_pan['Cycle'], \n",
    "                                 y=elec_pan['Coulombic_Efficiency (%)'],\n",
    "                                 marker=dict(\n",
    "                                     size=15,\n",
    "                                     color = '#FF5757',\n",
    "                                     symbol = 'triangle-up'\n",
    "                                 ),\n",
    "                                 line=dict(\n",
    "                                     color='#FF5757',\n",
    "                                     width=3,\n",
    "                                     dash='dash'\n",
    "                                 ),\n",
    "                                 name='Panasonic'\n",
    "                         )\n",
    "              )\n",
    "\n",
    "fig1.add_trace(go.Scatter(x=elec_LGC['Cycle'], \n",
    "                          y=elec_LGC['Coulombic_Efficiency (%)'],\n",
    "                          marker=dict(\n",
    "                              size=10,\n",
    "                              color = '#FFBD59',\n",
    "                              #color = '#545454',\n",
    "                              symbol = 'square'\n",
    "                          ),\n",
    "                          line=dict(\n",
    "                              color = '#FFBD59',\n",
    "                              #color='#545454',\n",
    "                              width=3,\n",
    "                              dash='dash'\n",
    "                          ),\n",
    "                          name='LG Chem'\n",
    "                         )\n",
    "              )\n",
    "\n",
    "fig1.update_layout(title ={'text' :user_in[1] + ' Coulombic Efficiency', \n",
    "                          'x' : 0.45},\n",
    "                   font = dict(size = 15),\n",
    "                   xaxis = dict(\n",
    "                       title = 'Number of Cycles'),\n",
    "                   yaxis = dict(\n",
    "                       title = 'CE (%)')\n",
    "                  )\n",
    "fig1.show()"
   ]
  },
  {
   "cell_type": "code",
   "execution_count": null,
   "id": "5c5b879d",
   "metadata": {},
   "outputs": [],
   "source": [
    "x = [0,0,0,1,1,1,2,2,2] # input, strings (ex: 'NMC')\n",
    "y = [50,100,150, 50,100,150, 50, 100, 150] # input\n",
    "z = [13, 69, 21, 5, 25,50, 60, 40, 20] # output\n",
    "\n",
    "df = pd.DataFrame([x,y,z]).T\n",
    "\n",
    "# to avoid the connected lines between data\n",
    "# sort data\n",
    "# if = 1, lca, etc\n",
    "\n",
    "fig = go.Figure(data=go.Scatter3d(\n",
    "    x=df[0], y=df[1], z=df[2],\n",
    "    marker=dict(\n",
    "        size=10,\n",
    "        color = x\n",
    "    ),\n",
    "    line=dict(\n",
    "        color=x,\n",
    "        width=3,\n",
    "        dash='dash'\n",
    "    ),\n",
    "    name='battery 1', text = 'battery 1'\n",
    "))\n",
    "\n",
    "fig.update_layout(title ={'text' :'help me', \n",
    "                          'x' : 0.5},\n",
    "                 scene = dict(\n",
    "                     xaxis = dict(\n",
    "                         nticks = 3,\n",
    "                         ticktext = ['NMC', 'NFP', 'LCA'],\n",
    "                         tickvals = [0, 1, 2],\n",
    "                     title = 'help'))\n",
    "                 )\n",
    "fig.show()\n",
    "\n",
    "df.head()"
   ]
  },
  {
   "cell_type": "code",
   "execution_count": null,
   "id": "a2d29ecc",
   "metadata": {},
   "outputs": [],
   "source": [
    "x = [1,1,1] # input, strings (ex: 'NMC')\n",
    "y = [50,100,150] # input\n",
    "z = [13, 69, 21] # output\n",
    "\n",
    "fig = px.scatter_3d(x=x, y=y, z=z,\n",
    "                    color=x, \n",
    "                    labels = {'x': 'Battery System', 'y': 'Cycle Number',\n",
    "                              'z': 'Output'})\n",
    "\n",
    "fig.update_layout(title ={'text' :'help me', \n",
    "                          'x' : 0.5},\n",
    "                 scene = dict(\n",
    "                     xaxis = dict(\n",
    "                         nticks = 3,\n",
    "                         ticktext = ['NMC', 'NFP', 'LCA'],\n",
    "                         tickvals = [0, 1, 2]))\n",
    "                 )\n",
    "\n",
    "fig.show()"
   ]
  },
  {
   "cell_type": "code",
   "execution_count": null,
   "id": "76404394",
   "metadata": {},
   "outputs": [],
   "source": [
    "x = [1,1,1] # input, strings (ex: 'NMC')\n",
    "y = [50,100,150] # input\n",
    "z = [13, 69, 21] # output\n",
    "\n",
    "fig = go.Figure(data=px.line_3d(\n",
    "    x=x, y=y, z=z,\n",
    "    title='spinny boi',                    \n",
    "    labels = {'x': 'Battery System', 'y': 'Cycle Number', 'z': 'Output'},\n",
    "    markers = True\n",
    "     ))\n",
    "\n",
    "fig.update_layout(title = {'text' :'help me', 'x' : 0.5},\n",
    "                 scene = dict(\n",
    "                     xaxis = dict(\n",
    "                         nticks = 3,\n",
    "                         ticktext = ['NMC', 'NFP', 'LCA'],\n",
    "                         tickvals = [0, 1, 2]))\n",
    "                 )\n",
    "\n",
    "fig.show()"
   ]
  },
  {
   "cell_type": "code",
   "execution_count": null,
   "id": "2f4f67b6",
   "metadata": {},
   "outputs": [],
   "source": []
  }
 ],
 "metadata": {
  "kernelspec": {
   "display_name": "Python 3 (ipykernel)",
   "language": "python",
   "name": "python3"
  },
  "language_info": {
   "codemirror_mode": {
    "name": "ipython",
    "version": 3
   },
   "file_extension": ".py",
   "mimetype": "text/x-python",
   "name": "python",
   "nbconvert_exporter": "python",
   "pygments_lexer": "ipython3",
   "version": "3.9.7"
  }
 },
 "nbformat": 4,
 "nbformat_minor": 5
}
