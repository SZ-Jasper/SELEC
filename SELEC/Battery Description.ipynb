{
 "cells": [
  {
   "cell_type": "code",
   "execution_count": 1,
   "id": "9fc6ace1",
   "metadata": {},
   "outputs": [],
   "source": [
    "import numpy as np\n",
    "import pandas as pd\n",
    "import matplotlib.pyplot as plt\n",
    "import scipy \n",
    "import os\n",
    "# import seaborn as sns\n",
    "# import scipy.stats as stats\n",
    "import unittest"
   ]
  },
  {
   "cell_type": "markdown",
   "id": "20f0a417",
   "metadata": {},
   "source": [
    "## Battery Dataset\n",
    "All battery expriments from snl"
   ]
  },
  {
   "cell_type": "code",
   "execution_count": 2,
   "id": "2ec14e35",
   "metadata": {},
   "outputs": [],
   "source": [
    "metadata = pd.read_csv('snl_metadata_cycle_500.csv')"
   ]
  },
  {
   "cell_type": "code",
   "execution_count": 3,
   "id": "71c214e5",
   "metadata": {},
   "outputs": [],
   "source": [
    "data_dir = \"Cycle Data\"\n",
    "files = os.listdir(data_dir)"
   ]
  },
  {
   "cell_type": "code",
   "execution_count": 4,
   "id": "5d5d327d",
   "metadata": {},
   "outputs": [],
   "source": [
    "df = pd.read_csv(data_dir+\"\\\\\"+files[0])\n",
    "df_output = df.head(0)"
   ]
  },
  {
   "cell_type": "code",
   "execution_count": 5,
   "id": "75aceb5e",
   "metadata": {},
   "outputs": [],
   "source": [
    "cycle = [50.0, 100.0, 150.0, 200.0, 250.0, 300.0, 350.0, 400.0, 450.0, 500.0]"
   ]
  },
  {
   "cell_type": "code",
   "execution_count": 6,
   "id": "362c67fa",
   "metadata": {},
   "outputs": [],
   "source": [
    "cell_id_2 =[]\n",
    "\n",
    "i=0                \n",
    "for file in files:\n",
    "    df = pd.read_csv(data_dir+\"\\\\\"+files[i])\n",
    "    \n",
    "    for j in range(len(cycle)):\n",
    "        df_cycles = df.loc[df['Cycle_Index'] == cycle[j]]\n",
    "        df_output = df_output.append(df_cycles, ignore_index = True)\n",
    "        \n",
    "        df_output['Coulombic_Efficiency (%)'] = df_output['Discharge_Capacity (Ah)']/df_output['Charge_Capacity (Ah)']*100\n",
    "        \n",
    "        cell_id_2.append(file[:-15])\n",
    "        df_output['cell_id_2'] = cell_id_2\n",
    "        \n",
    "        \n",
    "    i+=1    \n",
    "        "
   ]
  },
  {
   "cell_type": "code",
   "execution_count": 7,
   "id": "aa839f7e",
   "metadata": {},
   "outputs": [],
   "source": [
    "df_output = pd.concat([metadata, df_output],axis=1)"
   ]
  },
  {
   "cell_type": "code",
   "execution_count": 8,
   "id": "38a0cd7f",
   "metadata": {},
   "outputs": [],
   "source": [
    "data_dir2 = \"Time Data\"\n",
    "files2 = os.listdir(data_dir2)"
   ]
  },
  {
   "cell_type": "code",
   "execution_count": 9,
   "id": "1fad1977",
   "metadata": {},
   "outputs": [],
   "source": [
    "df_output['Voltages (V)'] = None \n",
    "df_output['Discharge_Capacities (Ah)'] = None "
   ]
  },
  {
   "cell_type": "code",
   "execution_count": null,
   "id": "c31786f0",
   "metadata": {},
   "outputs": [],
   "source": [
    "voltages = []\n",
    "discharge_capacities = []\n",
    "i=0     \n",
    "for file in files2:  \n",
    "    df2 = pd.read_csv(data_dir2+\"\\\\\"+files2[i])\n",
    "    \n",
    "    for j in range(10):\n",
    "        df_time = df2.loc[df2['Cycle_Index'] == df_output['Cycle'][j]]\n",
    "        voltages.append(df_time['Voltage (V)'].values)\n",
    "        discharge_capacities.append(df_time['Discharge_Capacity (Ah)'].values)\n",
    "    i+=1    "
   ]
  },
  {
   "cell_type": "code",
   "execution_count": null,
   "id": "46c64a21",
   "metadata": {},
   "outputs": [],
   "source": [
    "for i in range(len(df_output)):\n",
    "    df_output['Voltages (V)'][i] = voltages[i]\n",
    "    df_output['Discharge_Capacities (Ah)'][i] = discharge_capacities[i]"
   ]
  },
  {
   "cell_type": "code",
   "execution_count": null,
   "id": "7121a99c",
   "metadata": {},
   "outputs": [],
   "source": [
    "df_battery = df_output"
   ]
  },
  {
   "cell_type": "code",
   "execution_count": null,
   "id": "4562acd4",
   "metadata": {},
   "outputs": [],
   "source": [
    "for i in range(len(df_battery)):\n",
    "    if df_battery['cell_id'][i] == df_battery['cell_id_2'][i]:\n",
    "        pass\n",
    "    else:\n",
    "        print('not a match', df_battery['cell_id'][i],df_battery['cell_id_2'][i])"
   ]
  },
  {
   "cell_type": "code",
   "execution_count": null,
   "id": "6db70204",
   "metadata": {},
   "outputs": [],
   "source": [
    "df_battery = df_battery.drop('cell_id_2', 1)\n",
    "df_battery = df_battery.drop('Cycle_Index', 1)"
   ]
  },
  {
   "cell_type": "code",
   "execution_count": null,
   "id": "7337ed5c",
   "metadata": {},
   "outputs": [],
   "source": [
    "df_battery"
   ]
  },
  {
   "cell_type": "markdown",
   "id": "4382760b",
   "metadata": {},
   "source": [
    "## Battery Dataset Filtered\n",
    "Remove all repetative sets"
   ]
  },
  {
   "cell_type": "code",
   "execution_count": null,
   "id": "89e7f43e",
   "metadata": {},
   "outputs": [],
   "source": [
    "df_battery['rep'] = None "
   ]
  },
  {
   "cell_type": "code",
   "execution_count": null,
   "id": "9ed6f997",
   "metadata": {},
   "outputs": [],
   "source": [
    "for i in range(len(df_battery)):\n",
    "    if df_battery.cell_id.values[i][-1] == 'a':\n",
    "        df_battery['rep'][i] = 0\n",
    "    if df_battery.cell_id.values[i][-1] != 'a':\n",
    "        df_battery['rep'][i] = 1"
   ]
  },
  {
   "cell_type": "code",
   "execution_count": null,
   "id": "fe68bcfd",
   "metadata": {},
   "outputs": [],
   "source": [
    "df_battery_filtered = df_battery[df_battery['rep'] < 0.5]\n",
    "df_battery_filtered = df_battery_filtered.drop('rep', 1)\n",
    "df_battery_filtered = df_battery_filtered.reset_index(drop=True)"
   ]
  },
  {
   "cell_type": "code",
   "execution_count": null,
   "id": "b0fd37be",
   "metadata": {},
   "outputs": [],
   "source": [
    "df_battery_filtered.head(20)"
   ]
  },
  {
   "cell_type": "markdown",
   "id": "a7d5e895",
   "metadata": {},
   "source": [
    "## Battery Description\n",
    "Takes an array created by user input components into GUI and returns a numerical array to input into machine learning models"
   ]
  },
  {
   "cell_type": "code",
   "execution_count": null,
   "id": "aec14f0a",
   "metadata": {},
   "outputs": [],
   "source": [
    "#pd.set_option(\"display.max_rows\", None, \"display.max_columns\", None)"
   ]
  },
  {
   "cell_type": "code",
   "execution_count": null,
   "id": "06ba7c1d",
   "metadata": {},
   "outputs": [],
   "source": [
    "for i in range(len(df_battery_filtered)):\n",
    "    if df_battery_filtered.at[i,'anode'] == 'graphite':\n",
    "        df_battery_filtered.at[i,'anode'] = 0\n",
    "    if df_battery_filtered.at[i,'cathode'] == 'LFP':\n",
    "        df_battery_filtered.at[i,'cathode'] = 0\n",
    "    if df_battery_filtered.at[i,'cathode'] == 'NCA':\n",
    "        df_battery_filtered.at[i,'cathode'] = 1\n",
    "    if df_battery_filtered.at[i,'cathode'] == 'NMC':\n",
    "        df_battery_filtered.at[i,'cathode'] = 2\n",
    "    if df_battery_filtered.at[i,'electrolyte'] == 'A123':\n",
    "        df_battery_filtered.at[i,'electrolyte'] = 0\n",
    "    if df_battery_filtered.at[i,'electrolyte'] == 'Pan':\n",
    "        df_battery_filtered.at[i,'electrolyte'] = 1\n",
    "    if df_battery_filtered.at[i,'electrolyte'] == 'LGC':\n",
    "        df_battery_filtered.at[i,'electrolyte'] = 2"
   ]
  },
  {
   "cell_type": "code",
   "execution_count": null,
   "id": "dc8d9d6d",
   "metadata": {},
   "outputs": [],
   "source": [
    "df_battery_filtered.head(5)"
   ]
  },
  {
   "cell_type": "code",
   "execution_count": null,
   "id": "b1f3663b",
   "metadata": {},
   "outputs": [],
   "source": [
    "# cath = ['LFP']\n",
    "# elec = ['A123']\n",
    "# cy = 50\n",
    "# temp = 15\n",
    "# dcr = 1.0"
   ]
  },
  {
   "cell_type": "code",
   "execution_count": null,
   "id": "e6a2c08c",
   "metadata": {},
   "outputs": [],
   "source": [
    "description = ['LFP', 'A123', 50, 15, 1.0] #What I expect to come out of GUI"
   ]
  },
  {
   "cell_type": "code",
   "execution_count": null,
   "id": "c29b06f7",
   "metadata": {},
   "outputs": [],
   "source": [
    "battery_anode = {\n",
    "    0: 'Graphite'\n",
    "}\n",
    "\n",
    "battery_cathode = {\n",
    "    0: 'LFP',\n",
    "    1: 'NCA',\n",
    "    2: 'NMC',\n",
    "}\n",
    "\n",
    "battery_electrolyte = {\n",
    "    0: 'A123',\n",
    "    1: 'Pan',\n",
    "    2: 'LGC',\n",
    "}"
   ]
  },
  {
   "cell_type": "code",
   "execution_count": null,
   "id": "d7783e91",
   "metadata": {},
   "outputs": [],
   "source": [
    "desc = []\n",
    "for key, value in battery_cathode.items():\n",
    "    if value in list(battery_cathode.values())[0] == description[0]:\n",
    "        desc.append(key)\n",
    "for key, value in battery_electrolyte.items():\n",
    "    if value in list(battery_electrolyte.values())[0] == description[1]:\n",
    "        desc.append(key)\n",
    "desc.append(description[2])\n",
    "desc.append(description[3])\n",
    "desc.append(description[4])\n",
    "desc"
   ]
  },
  {
   "cell_type": "code",
   "execution_count": null,
   "id": "ac0aad50",
   "metadata": {},
   "outputs": [],
   "source": []
  }
 ],
 "metadata": {
  "kernelspec": {
   "display_name": "Python 3",
   "language": "python",
   "name": "python3"
  },
  "language_info": {
   "codemirror_mode": {
    "name": "ipython",
    "version": 3
   },
   "file_extension": ".py",
   "mimetype": "text/x-python",
   "name": "python",
   "nbconvert_exporter": "python",
   "pygments_lexer": "ipython3",
   "version": "3.8.8"
  }
 },
 "nbformat": 4,
 "nbformat_minor": 5
}
