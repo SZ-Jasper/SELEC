{
 "cells": [
  {
   "cell_type": "code",
   "execution_count": 1,
   "id": "c1867292",
   "metadata": {},
   "outputs": [],
   "source": [
    "import numpy as np\n",
    "import pandas as pd\n",
    "import os\n",
    "\n",
    "import pickle\n",
    "import sklearn\n",
    "from sklearn.preprocessing import OneHotEncoder\n",
    "from sklearn.neighbors import KNeighborsRegressor\n",
    "from sklearn.model_selection import KFold \n",
    "from sklearn.model_selection import GridSearchCV\n",
    "from sklearn.preprocessing import StandardScaler,scale,MinMaxScaler\n",
    "from sklearn.metrics import mean_squared_error\n",
    "\n",
    "import unittest"
   ]
  },
  {
   "cell_type": "code",
   "execution_count": 2,
   "id": "1f702813",
   "metadata": {},
   "outputs": [],
   "source": [
    "df_battery = pd.read_csv('Battery_Dataset.csv')"
   ]
  },
  {
   "cell_type": "markdown",
   "id": "42c717bd",
   "metadata": {},
   "source": [
    "### One Hot Encoding dataset"
   ]
  },
  {
   "cell_type": "code",
   "execution_count": 3,
   "id": "99fe1bfc",
   "metadata": {},
   "outputs": [],
   "source": [
    "def ohe_ACE(df):\n",
    "    ohe = OneHotEncoder()\n",
    "    ACE = df.loc[:,['anode','cathode','electrolyte']]\n",
    "    ACE = ohe.fit_transform(ACE)\n",
    "    df_encoded_ACE = pd.DataFrame(ACE.toarray())\n",
    "    return df_encoded_ACE"
   ]
  },
  {
   "cell_type": "code",
   "execution_count": 4,
   "id": "96b98e9c",
   "metadata": {},
   "outputs": [],
   "source": [
    "# df_encoded_ACE = ohe_ACE(df_battery)\n",
    "# df_encoded_ACE"
   ]
  },
  {
   "cell_type": "code",
   "execution_count": 5,
   "id": "bc00d7a1",
   "metadata": {},
   "outputs": [],
   "source": [
    "def ohe_dataframe(df):\n",
    "    df_ACE_col_name = ['A1','C1','C2','C3','E1','E2','E3']\n",
    "    df_encoded_ACE = ohe_ACE(df)\n",
    "    for i in range(len(df_encoded_ACE.columns)):\n",
    "        df_encoded_ACE = df_encoded_ACE.rename({df_encoded_ACE.columns[i]: df_ACE_col_name[i]}, axis=1) \n",
    "    df_ohe = pd.concat([df_encoded_ACE, df],axis=1)\n",
    "    return df_ohe"
   ]
  },
  {
   "cell_type": "code",
   "execution_count": 6,
   "id": "69d08bf4",
   "metadata": {},
   "outputs": [],
   "source": [
    "# df_enbattery = ohe_dataframe(df_battery)\n",
    "# df_enbattery"
   ]
  },
  {
   "cell_type": "markdown",
   "id": "42634126",
   "metadata": {},
   "source": [
    "### Split Data"
   ]
  },
  {
   "cell_type": "code",
   "execution_count": 7,
   "id": "edb1b2de",
   "metadata": {},
   "outputs": [],
   "source": [
    "def data_split (df, test_ratio, output, seed):\n",
    "    np.random.seed(seed)\n",
    "    \n",
    "    df_enbattery = ohe_dataframe(df)\n",
    "\n",
    "    total_row = df_enbattery.shape[0]\n",
    "    test_row = round(total_row *test_ratio)\n",
    "    train_row = total_row -test_row\n",
    "    \n",
    "    indices =np.random.permutation(total_row)\n",
    "    train_indx, test_idx =indices[:train_row], indices[train_row:]\n",
    "    train,test = df_enbattery.iloc[train_indx,:], df_enbattery.iloc[test_idx,:]\n",
    "    \n",
    "    X_test = test[['A1','C1','C2','C3','E1','E2','E3','Cycle','temperature','discharge_crate']]\n",
    "    y_test = test[[output]]\n",
    "    \n",
    "    X_train = train[['A1','C1','C2','C3','E1','E2','E3','Cycle','temperature','discharge_crate']]\n",
    "    y_train = train[[output]]\n",
    "    \n",
    "    return train,test,X_train,y_train,X_test,y_test"
   ]
  },
  {
   "cell_type": "code",
   "execution_count": 8,
   "id": "e406fefd",
   "metadata": {},
   "outputs": [],
   "source": [
    "# train,test,X_train,y_train,X_test,y_test = data_split(df_battery, 0.2, 'Discharge_Capacity (Ah)', 66)"
   ]
  },
  {
   "cell_type": "markdown",
   "id": "26ff57de",
   "metadata": {},
   "source": [
    "### Kfolds"
   ]
  },
  {
   "cell_type": "code",
   "execution_count": 9,
   "id": "3f64cb06",
   "metadata": {},
   "outputs": [],
   "source": [
    "def kfold(n_split,rand_state):\n",
    "    kf = KFold(n_splits=n_split, random_state=rand_state, shuffle= True)\n",
    "    return kf"
   ]
  },
  {
   "cell_type": "code",
   "execution_count": 10,
   "id": "3fbd2b03",
   "metadata": {},
   "outputs": [],
   "source": [
    "# kf = kfold(10,66)"
   ]
  },
  {
   "cell_type": "markdown",
   "id": "70bf5073",
   "metadata": {},
   "source": [
    "### Scale train and test sets"
   ]
  },
  {
   "cell_type": "code",
   "execution_count": 11,
   "id": "10315786",
   "metadata": {},
   "outputs": [],
   "source": [
    "def data_scale(X_train, X_test):\n",
    "        \n",
    "    scaler = StandardScaler(with_mean=True,with_std=True)\n",
    "\n",
    "    scaler.fit(X_train)\n",
    "    X_train_scaled = pd.DataFrame(scaler.transform(X_train))\n",
    "    \n",
    "    scaler.fit(X_test)\n",
    "    X_test_scaled = pd.DataFrame(scaler.transform(X_test))\n",
    "    \n",
    "    return X_train_scaled,X_test_scaled"
   ]
  },
  {
   "cell_type": "code",
   "execution_count": 12,
   "id": "e7c296a4",
   "metadata": {},
   "outputs": [],
   "source": [
    "# train,test,X_train,y_train,X_test,y_test = data_split(df_battery, 0.2, 'Discharge_Capacity (Ah)', 66)\n",
    "# X_train_scaled, X_test_scaled = data_scale(X_train, X_test)\n",
    "# X_test_scaled"
   ]
  },
  {
   "cell_type": "markdown",
   "id": "1542358a",
   "metadata": {},
   "source": [
    "### GridSearchCV for Hyperparameters"
   ]
  },
  {
   "cell_type": "code",
   "execution_count": 13,
   "id": "aace2238",
   "metadata": {},
   "outputs": [],
   "source": [
    "def grid_knn_hp(lower, upper, df, output):\n",
    "    param_grid = {'n_neighbors':range(lower,upper),\n",
    "                  'weights':['uniform', 'distance'],\n",
    "                  'algorithm':['auto', 'ball_tree', 'kd_tree'],\n",
    "                 }\n",
    "\n",
    "\n",
    "    grid_search = GridSearchCV(KNeighborsRegressor(), \n",
    "                               param_grid,\n",
    "                               cv=5\n",
    "                              )\n",
    "    \n",
    "    train,test,X_train,y_train,X_test,y_test = data_split(df_battery, 0.2, output, 66)\n",
    "    X_train_scaled, X_test_scaled = data_scale(X_train, X_test)\n",
    "    grid_search.fit(X_train_scaled, y_train)\n",
    "    \n",
    "    best_knn_hp = list(grid_search.best_params_.values())\n",
    "    alg = best_knn_hp[0]\n",
    "    n_neigh = best_knn_hp[1]\n",
    "    weight = best_knn_hp[2]\n",
    "    \n",
    "    return  alg, n_neigh, weight"
   ]
  },
  {
   "cell_type": "code",
   "execution_count": 14,
   "id": "4a755b5d",
   "metadata": {},
   "outputs": [],
   "source": [
    "# alg, n_neigh, weight = grid_knn_hp(1, 51, df_battery, 'Discharge_Capacity (Ah)')\n",
    "# print(alg, n_neigh, weight)"
   ]
  },
  {
   "cell_type": "markdown",
   "id": "893031a6",
   "metadata": {},
   "source": [
    "### Train machine learning models"
   ]
  },
  {
   "cell_type": "code",
   "execution_count": 15,
   "id": "dfc1a885",
   "metadata": {},
   "outputs": [],
   "source": [
    "def knn_train(df, output):\n",
    "    np.random.seed(66)\n",
    "    \n",
    "    alg, n_neigh, weight = grid_knn_hp(1, 51, df, output)\n",
    "    KNN_model_train =KNeighborsRegressor( algorithm = alg, n_neighbors=n_neigh, weights = weight)\n",
    "\n",
    "    train_results =[]\n",
    "    train_results_name =['Experimental','Predicted ','RMSE']\n",
    "\n",
    "    kf = kfold(10,66)\n",
    "\n",
    "    train,test,X_train,y_train,X_test,y_test = data_split(df_battery, 0.2, output, 66)\n",
    "    X_train_scaled, X_test_scaled = data_scale(X_train, X_test)\n",
    "    \n",
    "    for train_index, test_index in kf.split(X_train_scaled):\n",
    "        X_training, X_validate = X_train_scaled.iloc[train_index], X_train_scaled.iloc[test_index]\n",
    "        y_training, y_validate = y_train.iloc[train_index], y_train.iloc[test_index]\n",
    "\n",
    "        np.random.seed(66)\n",
    "        KNN_model_train.fit(X_training,y_training)\n",
    "        y_train_predicted = KNN_model_train.predict(X_validate)\n",
    "\n",
    "        mse = mean_squared_error(y_train_predicted, y_validate)\n",
    "        RMSE = np.sqrt(mse)\n",
    "\n",
    "        train_results.append([y_validate,y_train_predicted,RMSE])\n",
    "    \n",
    "    Train_results = pd.DataFrame (train_results,columns=train_results_name)\n",
    "    RMSE_avg = np.average(Train_results['RMSE'])\n",
    "    \n",
    "    return RMSE_avg"
   ]
  },
  {
   "cell_type": "code",
   "execution_count": 16,
   "id": "fed97ea2",
   "metadata": {},
   "outputs": [],
   "source": [
    "# knn_train_RMSE_avg = knn_train(df_battery, 'Discharge_Capacity (Ah)')\n",
    "# knn_train_RMSE_avg"
   ]
  },
  {
   "cell_type": "markdown",
   "id": "683a71cb",
   "metadata": {},
   "source": [
    "### Test Machine learning models"
   ]
  },
  {
   "cell_type": "code",
   "execution_count": 17,
   "id": "49babe16",
   "metadata": {},
   "outputs": [],
   "source": [
    "def knn_test(df, output):\n",
    "    np.random.seed(66)\n",
    "    \n",
    "    alg, n_neigh, weight = grid_knn_hp(1, 51, df, output)\n",
    "    KNN_model = KNeighborsRegressor( algorithm = alg, n_neighbors=n_neigh, weights = weight)\n",
    "    \n",
    "    train,test,X_train,y_train,X_test,y_test = data_split(df_battery, 0.2, output, 66)\n",
    "    X_train_scaled, X_test_scaled = data_scale(X_train, X_test)\n",
    "    \n",
    "    KNN_model.fit(X_train_scaled,y_train)\n",
    "    y_predict=KNN_model.predict(X_test_scaled)\n",
    "    \n",
    "    mse = mean_squared_error(y_predict, y_test)\n",
    "    RMSE = np.sqrt(mse)\n",
    "    return RMSE"
   ]
  },
  {
   "cell_type": "code",
   "execution_count": 18,
   "id": "1da9ec7a",
   "metadata": {},
   "outputs": [],
   "source": [
    "# knn_test_RMSE = knn_test(df_battery, 'Discharge_Capacity (Ah)')\n",
    "# knn_test_RMSE"
   ]
  },
  {
   "cell_type": "markdown",
   "id": "e440e1d1",
   "metadata": {},
   "source": [
    "### Prepare user battery set for predictor"
   ]
  },
  {
   "cell_type": "code",
   "execution_count": 19,
   "id": "7fed601a",
   "metadata": {},
   "outputs": [],
   "source": [
    "def X_set_in(df):\n",
    "    ac = df_battery['anode'].unique()\n",
    "    cc = df_battery['cathode'].unique()\n",
    "    ec = df_battery['electrolyte'].unique()\n",
    "    cycle = df_battery['Cycle'].unique()\n",
    "    tc = df_battery['temperature'].unique()\n",
    "    cr = df_battery['discharge_crate'].unique()\n",
    "\n",
    "    X_temp = []\n",
    "    for a in range(len(ac)):\n",
    "        for b in range(len(cc)):\n",
    "            for c in range(len(ec)):\n",
    "                for d in range(len(cycle)):\n",
    "                    for e in range(len(tc)):\n",
    "                        for f in range(len(cr)):\n",
    "                            X_temp.append([ac[a],cc[b],ec[c],cycle[d],tc[e],cr[f]])\n",
    "                        \n",
    "    column_names = ['anode','cathode','electrolyte','Cycle','temperature','discharge_crate']\n",
    "    X_set = pd.DataFrame(X_temp, columns = column_names)\n",
    "        \n",
    "    return X_set"
   ]
  },
  {
   "cell_type": "code",
   "execution_count": 20,
   "id": "484e0856",
   "metadata": {},
   "outputs": [],
   "source": [
    "# X_set = X_set_in(df_battery)\n",
    "# X_set"
   ]
  },
  {
   "cell_type": "code",
   "execution_count": 21,
   "id": "913567a0",
   "metadata": {},
   "outputs": [],
   "source": [
    "def X_set_en(df):\n",
    "    X_set = X_set_in(df)\n",
    "    \n",
    "    ohe = OneHotEncoder()\n",
    "    ACE = df.loc[:,['anode','cathode','electrolyte']]\n",
    "    ohe.fit_transform(ACE)\n",
    "    \n",
    "    filehandler = open(\"ohe.obj\",\"wb\")\n",
    "    pickle.dump(ohe,filehandler)\n",
    "    filehandler.close()\n",
    "    file = open(\"ohe.obj\",'rb')\n",
    "    ohe_loaded = pickle.load(file)\n",
    "    file.close()\n",
    "\n",
    "    ace = X_set.loc[:,['anode','cathode','electrolyte']]\n",
    "    ace = ohe_loaded.transform(ace)\n",
    "    ace = pd.DataFrame(ace.toarray())\n",
    "    \n",
    "    X_num = X_set.loc[:,['Cycle','temperature','discharge_crate']]\n",
    "\n",
    "    df_ace_col_name = ['A1','C1','C2','C3','E1','E2','E3']\n",
    "    for i in range(len(ace.columns)):\n",
    "        ace = ace.rename({ace.columns[i]: df_ace_col_name[i]}, axis=1) \n",
    "    X_set = pd.concat([ace, X_num],axis=1)\n",
    "    return X_set"
   ]
  },
  {
   "cell_type": "code",
   "execution_count": 22,
   "id": "fbf89432",
   "metadata": {},
   "outputs": [],
   "source": [
    "# X_set = X_set_en(df_battery)\n",
    "# X_set"
   ]
  },
  {
   "cell_type": "markdown",
   "id": "9cf8d995",
   "metadata": {},
   "source": [
    "### Predictor"
   ]
  },
  {
   "cell_type": "code",
   "execution_count": 23,
   "id": "6af5449d",
   "metadata": {},
   "outputs": [],
   "source": [
    "def df_prep(df, output):    \n",
    "    df_encoded_ACE = ohe_ACE(df)\n",
    "    df_enbattery = ohe_dataframe(df)\n",
    "    \n",
    "    X_bat = df_enbattery.loc[:,['A1','C1','C2','C3','E1','E2','E3','Cycle','temperature','discharge_crate']]\n",
    "    y_bat = df_enbattery.loc[:,[output]]\n",
    "    \n",
    "    return X_bat, y_bat"
   ]
  },
  {
   "cell_type": "code",
   "execution_count": 24,
   "id": "dc75c383",
   "metadata": {},
   "outputs": [],
   "source": [
    "# X_bat, y_bat = df_prep(df_battery, 'Discharge_Capacity (Ah)')\n",
    "# print(X_bat)\n",
    "# print(y_bat)"
   ]
  },
  {
   "cell_type": "code",
   "execution_count": 25,
   "id": "63ec3c23",
   "metadata": {},
   "outputs": [],
   "source": [
    "def battery_predictor(df, output):\n",
    "    X_bat, y_bat = df_prep(df, output)\n",
    "    X_set = X_set_en(df)\n",
    "    X_bat_scaled, X_set_scaled = data_scale(X_bat, X_set)\n",
    "    \n",
    "    best_knn_hp = grid_knn_hp(1, 51, df, output)\n",
    "    alg = best_knn_hp[0]\n",
    "    n_neigh = best_knn_hp[1]\n",
    "    weight = best_knn_hp[2]\n",
    "\n",
    "    np.random.seed(66)\n",
    "    KNN_model =KNeighborsRegressor(algorithm=alg, n_neighbors=n_neigh, weights=weight)\n",
    "    \n",
    "    KNN_model.fit(X_bat_scaled,y_bat)\n",
    "    y_predict=KNN_model.predict(X_set_scaled)\n",
    "    return y_predict"
   ]
  },
  {
   "cell_type": "code",
   "execution_count": 26,
   "id": "2f95a6a1",
   "metadata": {},
   "outputs": [],
   "source": [
    "# y_pred = battery_predictor(df_battery, 'Discharge_Capacity (Ah)')\n",
    "# y_pred"
   ]
  },
  {
   "cell_type": "markdown",
   "id": "5fcc93f9",
   "metadata": {},
   "source": [
    "### Report Generator"
   ]
  },
  {
   "cell_type": "code",
   "execution_count": 27,
   "id": "b0486c89",
   "metadata": {},
   "outputs": [],
   "source": [
    "def report_gen(df):\n",
    "    in_set = X_set_in(df)\n",
    "    \n",
    "    CC = pd.DataFrame(battery_predictor(df, 'Charge_Capacity (Ah)'), columns = ['Charge_Capacity (Ah)'])\n",
    "    DC = pd.DataFrame(battery_predictor(df, 'Discharge_Capacity (Ah)'), columns = ['Discharge_Capacity (Ah)'])\n",
    "    CE = pd.DataFrame(battery_predictor(df, 'Charge_Energy (Wh)'), columns = ['Charge_Energy (Wh)'])\n",
    "    DE = pd.DataFrame(battery_predictor(df, 'Discharge_Energy (Wh)'), columns = ['Discharge_Energy (Wh)'])\n",
    "    CEff = pd.DataFrame(battery_predictor(df, 'Coulombic_Efficiency (%)'), columns = ['Coulombic_Efficiency (%)'])\n",
    "    EEff = pd.DataFrame(battery_predictor(df, 'Energy_Efficiency (%)'), columns = ['Energy_Efficiency (%)'])\n",
    "    \n",
    "    report = pd.concat([in_set,CC,DC,CE,DE,CEff,EEff],axis=1)\n",
    "    return report"
   ]
  },
  {
   "cell_type": "code",
   "execution_count": 29,
   "id": "8de382f1",
   "metadata": {},
   "outputs": [],
   "source": [
    "# pd.set_option(\"display.max_rows\", None, \"display.max_columns\", None)\n",
    "# report = report_gen(df_battery)\n",
    "# report"
   ]
  },
  {
   "cell_type": "markdown",
   "id": "e2c02ef0",
   "metadata": {},
   "source": [
    "### Plot Generator"
   ]
  },
  {
   "cell_type": "code",
   "execution_count": null,
   "id": "af663853",
   "metadata": {},
   "outputs": [],
   "source": []
  },
  {
   "cell_type": "code",
   "execution_count": null,
   "id": "3b151cfd",
   "metadata": {},
   "outputs": [],
   "source": []
  },
  {
   "cell_type": "code",
   "execution_count": null,
   "id": "f200d0ba",
   "metadata": {},
   "outputs": [],
   "source": []
  },
  {
   "cell_type": "code",
   "execution_count": null,
   "id": "f1891265",
   "metadata": {},
   "outputs": [],
   "source": []
  },
  {
   "cell_type": "code",
   "execution_count": null,
   "id": "eadbcbdd",
   "metadata": {},
   "outputs": [],
   "source": []
  }
 ],
 "metadata": {
  "kernelspec": {
   "display_name": "Python 3 (ipykernel)",
   "language": "python",
   "name": "python3"
  },
  "language_info": {
   "codemirror_mode": {
    "name": "ipython",
    "version": 3
   },
   "file_extension": ".py",
   "mimetype": "text/x-python",
   "name": "python",
   "nbconvert_exporter": "python",
   "pygments_lexer": "ipython3",
   "version": "3.8.12"
  }
 },
 "nbformat": 4,
 "nbformat_minor": 5
}
